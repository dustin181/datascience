{
 "cells": [
  {
   "cell_type": "markdown",
   "metadata": {},
   "source": [
    "1.) Who was being polled and what was their party affiliation?\n",
    "\n",
    "2.) Did the poll results favor Clinton or Trump?\n",
    "\n",
    "3.) How do undecided voters effect the poll?\n",
    "\n",
    "4.) Can we account for the undecided voters?\n",
    "\n",
    "5.) How did voter sentiment change over time?\n",
    "\n",
    "6.) Can we see an effect in the polls from the debates?"
   ]
  },
  {
   "cell_type": "code",
   "execution_count": 285,
   "metadata": {
    "collapsed": false
   },
   "outputs": [],
   "source": [
    "# Handle table-like data and matrices\n",
    "import numpy as np\n",
    "import pandas as pd\n",
    "\n",
    "# Visualization\n",
    "import matplotlib as mpl\n",
    "import matplotlib.pyplot as plt\n",
    "import matplotlib.pylab as pylab\n",
    "import seaborn as sns\n",
    "\n",
    "# Configure visualizations\n",
    "%matplotlib inline\n",
    "mpl.style.use( 'ggplot' )\n",
    "pylab.rcParams[ 'figure.figsize' ] = 8 , 6\n",
    "\n",
    "from __future__ import division"
   ]
  },
  {
   "cell_type": "code",
   "execution_count": 286,
   "metadata": {
    "collapsed": false
   },
   "outputs": [],
   "source": [
    "poll_df = pd.read_csv('2016-general-election-trump-vs-clinton.csv')"
   ]
  },
  {
   "cell_type": "code",
   "execution_count": 287,
   "metadata": {
    "collapsed": false
   },
   "outputs": [
    {
     "name": "stdout",
     "output_type": "stream",
     "text": [
      "<class 'pandas.core.frame.DataFrame'>\n",
      "RangeIndex: 1522 entries, 0 to 1521\n",
      "Data columns (total 15 columns):\n",
      "Pollster                  1522 non-null object\n",
      "Start Date                1522 non-null object\n",
      "End Date                  1522 non-null object\n",
      "Entry Date/Time (ET)      1522 non-null object\n",
      "Number of Observations    1013 non-null float64\n",
      "Population                1522 non-null object\n",
      "Mode                      1522 non-null object\n",
      "Trump                     1522 non-null int64\n",
      "Clinton                   1522 non-null int64\n",
      "Other                     1098 non-null float64\n",
      "Undecided                 1460 non-null float64\n",
      "Pollster URL              1522 non-null object\n",
      "Source URL                1522 non-null object\n",
      "Partisan                  1522 non-null object\n",
      "Affiliation               1522 non-null object\n",
      "dtypes: float64(3), int64(2), object(10)\n",
      "memory usage: 178.4+ KB\n"
     ]
    }
   ],
   "source": [
    "poll_df.info()"
   ]
  },
  {
   "cell_type": "code",
   "execution_count": 288,
   "metadata": {
    "collapsed": false
   },
   "outputs": [
    {
     "data": {
      "text/html": [
       "<div>\n",
       "<table border=\"1\" class=\"dataframe\">\n",
       "  <thead>\n",
       "    <tr style=\"text-align: right;\">\n",
       "      <th></th>\n",
       "      <th>Pollster</th>\n",
       "      <th>Start Date</th>\n",
       "      <th>End Date</th>\n",
       "      <th>Entry Date/Time (ET)</th>\n",
       "      <th>Number of Observations</th>\n",
       "      <th>Population</th>\n",
       "      <th>Mode</th>\n",
       "      <th>Trump</th>\n",
       "      <th>Clinton</th>\n",
       "      <th>Other</th>\n",
       "      <th>Undecided</th>\n",
       "      <th>Pollster URL</th>\n",
       "      <th>Source URL</th>\n",
       "      <th>Partisan</th>\n",
       "      <th>Affiliation</th>\n",
       "    </tr>\n",
       "  </thead>\n",
       "  <tbody>\n",
       "    <tr>\n",
       "      <th>0</th>\n",
       "      <td>Insights West</td>\n",
       "      <td>11/4/2016</td>\n",
       "      <td>11/7/2016</td>\n",
       "      <td>2016-11-08T12:16:30Z</td>\n",
       "      <td>940.0</td>\n",
       "      <td>Likely Voters</td>\n",
       "      <td>Internet</td>\n",
       "      <td>41</td>\n",
       "      <td>45</td>\n",
       "      <td>2.0</td>\n",
       "      <td>8.0</td>\n",
       "      <td>http://elections.huffingtonpost.com/pollster/p...</td>\n",
       "      <td>http://www.insightswest.com/news/clinton-is-ah...</td>\n",
       "      <td>Nonpartisan</td>\n",
       "      <td>None</td>\n",
       "    </tr>\n",
       "    <tr>\n",
       "      <th>1</th>\n",
       "      <td>Insights West</td>\n",
       "      <td>11/4/2016</td>\n",
       "      <td>11/7/2016</td>\n",
       "      <td>2016-11-08T12:16:30Z</td>\n",
       "      <td>NaN</td>\n",
       "      <td>Likely Voters - Democrat</td>\n",
       "      <td>Internet</td>\n",
       "      <td>6</td>\n",
       "      <td>89</td>\n",
       "      <td>0.0</td>\n",
       "      <td>4.0</td>\n",
       "      <td>http://elections.huffingtonpost.com/pollster/p...</td>\n",
       "      <td>http://www.insightswest.com/news/clinton-is-ah...</td>\n",
       "      <td>Nonpartisan</td>\n",
       "      <td>None</td>\n",
       "    </tr>\n",
       "    <tr>\n",
       "      <th>2</th>\n",
       "      <td>Insights West</td>\n",
       "      <td>11/4/2016</td>\n",
       "      <td>11/7/2016</td>\n",
       "      <td>2016-11-08T12:16:30Z</td>\n",
       "      <td>NaN</td>\n",
       "      <td>Likely Voters - Republican</td>\n",
       "      <td>Internet</td>\n",
       "      <td>82</td>\n",
       "      <td>7</td>\n",
       "      <td>2.0</td>\n",
       "      <td>6.0</td>\n",
       "      <td>http://elections.huffingtonpost.com/pollster/p...</td>\n",
       "      <td>http://www.insightswest.com/news/clinton-is-ah...</td>\n",
       "      <td>Nonpartisan</td>\n",
       "      <td>None</td>\n",
       "    </tr>\n",
       "    <tr>\n",
       "      <th>3</th>\n",
       "      <td>Insights West</td>\n",
       "      <td>11/4/2016</td>\n",
       "      <td>11/7/2016</td>\n",
       "      <td>2016-11-08T12:16:30Z</td>\n",
       "      <td>NaN</td>\n",
       "      <td>Likely Voters - independent</td>\n",
       "      <td>Internet</td>\n",
       "      <td>38</td>\n",
       "      <td>43</td>\n",
       "      <td>4.0</td>\n",
       "      <td>7.0</td>\n",
       "      <td>http://elections.huffingtonpost.com/pollster/p...</td>\n",
       "      <td>http://www.insightswest.com/news/clinton-is-ah...</td>\n",
       "      <td>Nonpartisan</td>\n",
       "      <td>None</td>\n",
       "    </tr>\n",
       "    <tr>\n",
       "      <th>4</th>\n",
       "      <td>IBD/TIPP</td>\n",
       "      <td>11/4/2016</td>\n",
       "      <td>11/7/2016</td>\n",
       "      <td>2016-11-08T12:10:06Z</td>\n",
       "      <td>1107.0</td>\n",
       "      <td>Likely Voters</td>\n",
       "      <td>Live Phone</td>\n",
       "      <td>43</td>\n",
       "      <td>41</td>\n",
       "      <td>4.0</td>\n",
       "      <td>5.0</td>\n",
       "      <td>http://elections.huffingtonpost.com/pollster/p...</td>\n",
       "      <td>http://www.investors.com/politics/ibd-tipp-pre...</td>\n",
       "      <td>Nonpartisan</td>\n",
       "      <td>None</td>\n",
       "    </tr>\n",
       "  </tbody>\n",
       "</table>\n",
       "</div>"
      ],
      "text/plain": [
       "        Pollster Start Date   End Date  Entry Date/Time (ET)  \\\n",
       "0  Insights West  11/4/2016  11/7/2016  2016-11-08T12:16:30Z   \n",
       "1  Insights West  11/4/2016  11/7/2016  2016-11-08T12:16:30Z   \n",
       "2  Insights West  11/4/2016  11/7/2016  2016-11-08T12:16:30Z   \n",
       "3  Insights West  11/4/2016  11/7/2016  2016-11-08T12:16:30Z   \n",
       "4       IBD/TIPP  11/4/2016  11/7/2016  2016-11-08T12:10:06Z   \n",
       "\n",
       "   Number of Observations                   Population        Mode  Trump  \\\n",
       "0                   940.0                Likely Voters    Internet     41   \n",
       "1                     NaN     Likely Voters - Democrat    Internet      6   \n",
       "2                     NaN   Likely Voters - Republican    Internet     82   \n",
       "3                     NaN  Likely Voters - independent    Internet     38   \n",
       "4                  1107.0                Likely Voters  Live Phone     43   \n",
       "\n",
       "   Clinton  Other  Undecided  \\\n",
       "0       45    2.0        8.0   \n",
       "1       89    0.0        4.0   \n",
       "2        7    2.0        6.0   \n",
       "3       43    4.0        7.0   \n",
       "4       41    4.0        5.0   \n",
       "\n",
       "                                        Pollster URL  \\\n",
       "0  http://elections.huffingtonpost.com/pollster/p...   \n",
       "1  http://elections.huffingtonpost.com/pollster/p...   \n",
       "2  http://elections.huffingtonpost.com/pollster/p...   \n",
       "3  http://elections.huffingtonpost.com/pollster/p...   \n",
       "4  http://elections.huffingtonpost.com/pollster/p...   \n",
       "\n",
       "                                          Source URL     Partisan Affiliation  \n",
       "0  http://www.insightswest.com/news/clinton-is-ah...  Nonpartisan        None  \n",
       "1  http://www.insightswest.com/news/clinton-is-ah...  Nonpartisan        None  \n",
       "2  http://www.insightswest.com/news/clinton-is-ah...  Nonpartisan        None  \n",
       "3  http://www.insightswest.com/news/clinton-is-ah...  Nonpartisan        None  \n",
       "4  http://www.investors.com/politics/ibd-tipp-pre...  Nonpartisan        None  "
      ]
     },
     "execution_count": 288,
     "metadata": {},
     "output_type": "execute_result"
    }
   ],
   "source": [
    "poll_df.head()"
   ]
  },
  {
   "cell_type": "code",
   "execution_count": 289,
   "metadata": {
    "collapsed": false
   },
   "outputs": [
    {
     "data": {
      "text/plain": [
       "<matplotlib.axes._subplots.AxesSubplot at 0x66437d68>"
      ]
     },
     "execution_count": 289,
     "metadata": {},
     "output_type": "execute_result"
    },
    {
     "data": {
      "image/png": "[encoded data removed]",
      "text/plain": [
       "<matplotlib.figure.Figure at 0x19d81a58>"
      ]
     },
     "metadata": {},
     "output_type": "display_data"
    }
   ],
   "source": [
    "#1) See chart below\n",
    "sns.countplot(y=\"Population\", data=poll_df)"
   ]
  },
  {
   "cell_type": "code",
   "execution_count": 290,
   "metadata": {
    "collapsed": false
   },
   "outputs": [
    {
     "data": {
      "text/html": [
       "<div>\n",
       "<table border=\"1\" class=\"dataframe\">\n",
       "  <thead>\n",
       "    <tr style=\"text-align: right;\">\n",
       "      <th></th>\n",
       "      <th>Pollster</th>\n",
       "      <th>Start Date</th>\n",
       "      <th>End Date</th>\n",
       "      <th>Entry Date/Time (ET)</th>\n",
       "      <th>Number of Observations</th>\n",
       "      <th>Population</th>\n",
       "      <th>Mode</th>\n",
       "      <th>Trump</th>\n",
       "      <th>Clinton</th>\n",
       "      <th>Other</th>\n",
       "      <th>Undecided</th>\n",
       "      <th>Pollster URL</th>\n",
       "      <th>Source URL</th>\n",
       "      <th>Partisan</th>\n",
       "      <th>Affiliation</th>\n",
       "    </tr>\n",
       "  </thead>\n",
       "  <tbody>\n",
       "    <tr>\n",
       "      <th>0</th>\n",
       "      <td>Insights West</td>\n",
       "      <td>11/4/2016</td>\n",
       "      <td>11/7/2016</td>\n",
       "      <td>2016-11-08T12:16:30Z</td>\n",
       "      <td>940.0</td>\n",
       "      <td>Likely Voters</td>\n",
       "      <td>Internet</td>\n",
       "      <td>41</td>\n",
       "      <td>45</td>\n",
       "      <td>2.0</td>\n",
       "      <td>8.0</td>\n",
       "      <td>http://elections.huffingtonpost.com/pollster/p...</td>\n",
       "      <td>http://www.insightswest.com/news/clinton-is-ah...</td>\n",
       "      <td>Nonpartisan</td>\n",
       "      <td>None</td>\n",
       "    </tr>\n",
       "    <tr>\n",
       "      <th>1</th>\n",
       "      <td>Insights West</td>\n",
       "      <td>11/4/2016</td>\n",
       "      <td>11/7/2016</td>\n",
       "      <td>2016-11-08T12:16:30Z</td>\n",
       "      <td>NaN</td>\n",
       "      <td>Likely Voters - Democrat</td>\n",
       "      <td>Internet</td>\n",
       "      <td>6</td>\n",
       "      <td>89</td>\n",
       "      <td>0.0</td>\n",
       "      <td>4.0</td>\n",
       "      <td>http://elections.huffingtonpost.com/pollster/p...</td>\n",
       "      <td>http://www.insightswest.com/news/clinton-is-ah...</td>\n",
       "      <td>Nonpartisan</td>\n",
       "      <td>None</td>\n",
       "    </tr>\n",
       "    <tr>\n",
       "      <th>2</th>\n",
       "      <td>Insights West</td>\n",
       "      <td>11/4/2016</td>\n",
       "      <td>11/7/2016</td>\n",
       "      <td>2016-11-08T12:16:30Z</td>\n",
       "      <td>NaN</td>\n",
       "      <td>Likely Voters - Republican</td>\n",
       "      <td>Internet</td>\n",
       "      <td>82</td>\n",
       "      <td>7</td>\n",
       "      <td>2.0</td>\n",
       "      <td>6.0</td>\n",
       "      <td>http://elections.huffingtonpost.com/pollster/p...</td>\n",
       "      <td>http://www.insightswest.com/news/clinton-is-ah...</td>\n",
       "      <td>Nonpartisan</td>\n",
       "      <td>None</td>\n",
       "    </tr>\n",
       "    <tr>\n",
       "      <th>3</th>\n",
       "      <td>Insights West</td>\n",
       "      <td>11/4/2016</td>\n",
       "      <td>11/7/2016</td>\n",
       "      <td>2016-11-08T12:16:30Z</td>\n",
       "      <td>NaN</td>\n",
       "      <td>Likely Voters - independent</td>\n",
       "      <td>Internet</td>\n",
       "      <td>38</td>\n",
       "      <td>43</td>\n",
       "      <td>4.0</td>\n",
       "      <td>7.0</td>\n",
       "      <td>http://elections.huffingtonpost.com/pollster/p...</td>\n",
       "      <td>http://www.insightswest.com/news/clinton-is-ah...</td>\n",
       "      <td>Nonpartisan</td>\n",
       "      <td>None</td>\n",
       "    </tr>\n",
       "    <tr>\n",
       "      <th>4</th>\n",
       "      <td>IBD/TIPP</td>\n",
       "      <td>11/4/2016</td>\n",
       "      <td>11/7/2016</td>\n",
       "      <td>2016-11-08T12:10:06Z</td>\n",
       "      <td>1107.0</td>\n",
       "      <td>Likely Voters</td>\n",
       "      <td>Live Phone</td>\n",
       "      <td>43</td>\n",
       "      <td>41</td>\n",
       "      <td>4.0</td>\n",
       "      <td>5.0</td>\n",
       "      <td>http://elections.huffingtonpost.com/pollster/p...</td>\n",
       "      <td>http://www.investors.com/politics/ibd-tipp-pre...</td>\n",
       "      <td>Nonpartisan</td>\n",
       "      <td>None</td>\n",
       "    </tr>\n",
       "  </tbody>\n",
       "</table>\n",
       "</div>"
      ],
      "text/plain": [
       "        Pollster Start Date   End Date  Entry Date/Time (ET)  \\\n",
       "0  Insights West  11/4/2016  11/7/2016  2016-11-08T12:16:30Z   \n",
       "1  Insights West  11/4/2016  11/7/2016  2016-11-08T12:16:30Z   \n",
       "2  Insights West  11/4/2016  11/7/2016  2016-11-08T12:16:30Z   \n",
       "3  Insights West  11/4/2016  11/7/2016  2016-11-08T12:16:30Z   \n",
       "4       IBD/TIPP  11/4/2016  11/7/2016  2016-11-08T12:10:06Z   \n",
       "\n",
       "   Number of Observations                   Population        Mode  Trump  \\\n",
       "0                   940.0                Likely Voters    Internet     41   \n",
       "1                     NaN     Likely Voters - Democrat    Internet      6   \n",
       "2                     NaN   Likely Voters - Republican    Internet     82   \n",
       "3                     NaN  Likely Voters - independent    Internet     38   \n",
       "4                  1107.0                Likely Voters  Live Phone     43   \n",
       "\n",
       "   Clinton  Other  Undecided  \\\n",
       "0       45    2.0        8.0   \n",
       "1       89    0.0        4.0   \n",
       "2        7    2.0        6.0   \n",
       "3       43    4.0        7.0   \n",
       "4       41    4.0        5.0   \n",
       "\n",
       "                                        Pollster URL  \\\n",
       "0  http://elections.huffingtonpost.com/pollster/p...   \n",
       "1  http://elections.huffingtonpost.com/pollster/p...   \n",
       "2  http://elections.huffingtonpost.com/pollster/p...   \n",
       "3  http://elections.huffingtonpost.com/pollster/p...   \n",
       "4  http://elections.huffingtonpost.com/pollster/p...   \n",
       "\n",
       "                                          Source URL     Partisan Affiliation  \n",
       "0  http://www.insightswest.com/news/clinton-is-ah...  Nonpartisan        None  \n",
       "1  http://www.insightswest.com/news/clinton-is-ah...  Nonpartisan        None  \n",
       "2  http://www.insightswest.com/news/clinton-is-ah...  Nonpartisan        None  \n",
       "3  http://www.insightswest.com/news/clinton-is-ah...  Nonpartisan        None  \n",
       "4  http://www.investors.com/politics/ibd-tipp-pre...  Nonpartisan        None  "
      ]
     },
     "execution_count": 290,
     "metadata": {},
     "output_type": "execute_result"
    }
   ],
   "source": [
    "poll_df.head()"
   ]
  },
  {
   "cell_type": "code",
   "execution_count": 291,
   "metadata": {
    "collapsed": false
   },
   "outputs": [],
   "source": [
    "avg = pd.DataFrame(poll_df.mean(),columns=['mean'])\n",
    "std = pd.DataFrame(poll_df.std(),columns=['std'])\n",
    "\n",
    "avg.drop('Number of Observations',axis=0,inplace=True)\n",
    "std.drop('Number of Observations',axis=0,inplace=True)"
   ]
  },
  {
   "cell_type": "code",
   "execution_count": 292,
   "metadata": {
    "collapsed": false
   },
   "outputs": [
    {
     "data": {
      "text/html": [
       "<div>\n",
       "<table border=\"1\" class=\"dataframe\">\n",
       "  <thead>\n",
       "    <tr style=\"text-align: right;\">\n",
       "      <th></th>\n",
       "      <th>Average</th>\n",
       "      <th>STD</th>\n",
       "    </tr>\n",
       "  </thead>\n",
       "  <tbody>\n",
       "    <tr>\n",
       "      <th>Trump</th>\n",
       "      <td>40.643890</td>\n",
       "      <td>23.566390</td>\n",
       "    </tr>\n",
       "    <tr>\n",
       "      <th>Clinton</th>\n",
       "      <td>42.733903</td>\n",
       "      <td>25.298731</td>\n",
       "    </tr>\n",
       "    <tr>\n",
       "      <th>Other</th>\n",
       "      <td>5.806011</td>\n",
       "      <td>5.009533</td>\n",
       "    </tr>\n",
       "    <tr>\n",
       "      <th>Undecided</th>\n",
       "      <td>9.315068</td>\n",
       "      <td>6.253118</td>\n",
       "    </tr>\n",
       "  </tbody>\n",
       "</table>\n",
       "</div>"
      ],
      "text/plain": [
       "             Average        STD\n",
       "Trump      40.643890  23.566390\n",
       "Clinton    42.733903  25.298731\n",
       "Other       5.806011   5.009533\n",
       "Undecided   9.315068   6.253118"
      ]
     },
     "execution_count": 292,
     "metadata": {},
     "output_type": "execute_result"
    }
   ],
   "source": [
    "#2) From the polls it seems like Clinton has the slight edge.  However, the relatively large standard deviation shows that \n",
    "#this poll doesn't tell us anything.\n",
    "poll_avg = pd.concat([avg,std],axis=1)\n",
    "poll_avg.columns = ['Average','STD']\n",
    "poll_avg\n"
   ]
  },
  {
   "cell_type": "markdown",
   "metadata": {},
   "source": [
    "3&4) The amount of undecided voters is larger than the margin between the two candidates, so, if the election is really hat close, these undecided voters will decide the election.  The \"other\" voters are also numerous enough to affect he outcome."
   ]
  },
  {
   "cell_type": "code",
   "execution_count": 293,
   "metadata": {
    "collapsed": true
   },
   "outputs": [],
   "source": [
    "from datetime import datetime"
   ]
  },
  {
   "cell_type": "code",
   "execution_count": 294,
   "metadata": {
    "collapsed": false
   },
   "outputs": [
    {
     "data": {
      "text/html": [
       "<div>\n",
       "<table border=\"1\" class=\"dataframe\">\n",
       "  <thead>\n",
       "    <tr style=\"text-align: right;\">\n",
       "      <th></th>\n",
       "      <th>Pollster</th>\n",
       "      <th>Start Date</th>\n",
       "      <th>End Date</th>\n",
       "      <th>Entry Date/Time (ET)</th>\n",
       "      <th>Number of Observations</th>\n",
       "      <th>Population</th>\n",
       "      <th>Mode</th>\n",
       "      <th>Trump</th>\n",
       "      <th>Clinton</th>\n",
       "      <th>Other</th>\n",
       "      <th>Undecided</th>\n",
       "      <th>Pollster URL</th>\n",
       "      <th>Source URL</th>\n",
       "      <th>Partisan</th>\n",
       "      <th>Affiliation</th>\n",
       "      <th>Difference</th>\n",
       "    </tr>\n",
       "  </thead>\n",
       "  <tbody>\n",
       "    <tr>\n",
       "      <th>0</th>\n",
       "      <td>Insights West</td>\n",
       "      <td>11/4/2016</td>\n",
       "      <td>11/7/2016</td>\n",
       "      <td>2016-11-08T12:16:30Z</td>\n",
       "      <td>940.0</td>\n",
       "      <td>Likely Voters</td>\n",
       "      <td>Internet</td>\n",
       "      <td>41</td>\n",
       "      <td>45</td>\n",
       "      <td>2.0</td>\n",
       "      <td>8.0</td>\n",
       "      <td>http://elections.huffingtonpost.com/pollster/p...</td>\n",
       "      <td>http://www.insightswest.com/news/clinton-is-ah...</td>\n",
       "      <td>Nonpartisan</td>\n",
       "      <td>None</td>\n",
       "      <td>-0.04</td>\n",
       "    </tr>\n",
       "    <tr>\n",
       "      <th>1</th>\n",
       "      <td>Insights West</td>\n",
       "      <td>11/4/2016</td>\n",
       "      <td>11/7/2016</td>\n",
       "      <td>2016-11-08T12:16:30Z</td>\n",
       "      <td>NaN</td>\n",
       "      <td>Likely Voters - Democrat</td>\n",
       "      <td>Internet</td>\n",
       "      <td>6</td>\n",
       "      <td>89</td>\n",
       "      <td>0.0</td>\n",
       "      <td>4.0</td>\n",
       "      <td>http://elections.huffingtonpost.com/pollster/p...</td>\n",
       "      <td>http://www.insightswest.com/news/clinton-is-ah...</td>\n",
       "      <td>Nonpartisan</td>\n",
       "      <td>None</td>\n",
       "      <td>-0.83</td>\n",
       "    </tr>\n",
       "    <tr>\n",
       "      <th>2</th>\n",
       "      <td>Insights West</td>\n",
       "      <td>11/4/2016</td>\n",
       "      <td>11/7/2016</td>\n",
       "      <td>2016-11-08T12:16:30Z</td>\n",
       "      <td>NaN</td>\n",
       "      <td>Likely Voters - Republican</td>\n",
       "      <td>Internet</td>\n",
       "      <td>82</td>\n",
       "      <td>7</td>\n",
       "      <td>2.0</td>\n",
       "      <td>6.0</td>\n",
       "      <td>http://elections.huffingtonpost.com/pollster/p...</td>\n",
       "      <td>http://www.insightswest.com/news/clinton-is-ah...</td>\n",
       "      <td>Nonpartisan</td>\n",
       "      <td>None</td>\n",
       "      <td>0.75</td>\n",
       "    </tr>\n",
       "    <tr>\n",
       "      <th>3</th>\n",
       "      <td>Insights West</td>\n",
       "      <td>11/4/2016</td>\n",
       "      <td>11/7/2016</td>\n",
       "      <td>2016-11-08T12:16:30Z</td>\n",
       "      <td>NaN</td>\n",
       "      <td>Likely Voters - independent</td>\n",
       "      <td>Internet</td>\n",
       "      <td>38</td>\n",
       "      <td>43</td>\n",
       "      <td>4.0</td>\n",
       "      <td>7.0</td>\n",
       "      <td>http://elections.huffingtonpost.com/pollster/p...</td>\n",
       "      <td>http://www.insightswest.com/news/clinton-is-ah...</td>\n",
       "      <td>Nonpartisan</td>\n",
       "      <td>None</td>\n",
       "      <td>-0.05</td>\n",
       "    </tr>\n",
       "    <tr>\n",
       "      <th>4</th>\n",
       "      <td>IBD/TIPP</td>\n",
       "      <td>11/4/2016</td>\n",
       "      <td>11/7/2016</td>\n",
       "      <td>2016-11-08T12:10:06Z</td>\n",
       "      <td>1107.0</td>\n",
       "      <td>Likely Voters</td>\n",
       "      <td>Live Phone</td>\n",
       "      <td>43</td>\n",
       "      <td>41</td>\n",
       "      <td>4.0</td>\n",
       "      <td>5.0</td>\n",
       "      <td>http://elections.huffingtonpost.com/pollster/p...</td>\n",
       "      <td>http://www.investors.com/politics/ibd-tipp-pre...</td>\n",
       "      <td>Nonpartisan</td>\n",
       "      <td>None</td>\n",
       "      <td>0.02</td>\n",
       "    </tr>\n",
       "  </tbody>\n",
       "</table>\n",
       "</div>"
      ],
      "text/plain": [
       "        Pollster Start Date   End Date  Entry Date/Time (ET)  \\\n",
       "0  Insights West  11/4/2016  11/7/2016  2016-11-08T12:16:30Z   \n",
       "1  Insights West  11/4/2016  11/7/2016  2016-11-08T12:16:30Z   \n",
       "2  Insights West  11/4/2016  11/7/2016  2016-11-08T12:16:30Z   \n",
       "3  Insights West  11/4/2016  11/7/2016  2016-11-08T12:16:30Z   \n",
       "4       IBD/TIPP  11/4/2016  11/7/2016  2016-11-08T12:10:06Z   \n",
       "\n",
       "   Number of Observations                   Population        Mode  Trump  \\\n",
       "0                   940.0                Likely Voters    Internet     41   \n",
       "1                     NaN     Likely Voters - Democrat    Internet      6   \n",
       "2                     NaN   Likely Voters - Republican    Internet     82   \n",
       "3                     NaN  Likely Voters - independent    Internet     38   \n",
       "4                  1107.0                Likely Voters  Live Phone     43   \n",
       "\n",
       "   Clinton  Other  Undecided  \\\n",
       "0       45    2.0        8.0   \n",
       "1       89    0.0        4.0   \n",
       "2        7    2.0        6.0   \n",
       "3       43    4.0        7.0   \n",
       "4       41    4.0        5.0   \n",
       "\n",
       "                                        Pollster URL  \\\n",
       "0  http://elections.huffingtonpost.com/pollster/p...   \n",
       "1  http://elections.huffingtonpost.com/pollster/p...   \n",
       "2  http://elections.huffingtonpost.com/pollster/p...   \n",
       "3  http://elections.huffingtonpost.com/pollster/p...   \n",
       "4  http://elections.huffingtonpost.com/pollster/p...   \n",
       "\n",
       "                                          Source URL     Partisan Affiliation  \\\n",
       "0  http://www.insightswest.com/news/clinton-is-ah...  Nonpartisan        None   \n",
       "1  http://www.insightswest.com/news/clinton-is-ah...  Nonpartisan        None   \n",
       "2  http://www.insightswest.com/news/clinton-is-ah...  Nonpartisan        None   \n",
       "3  http://www.insightswest.com/news/clinton-is-ah...  Nonpartisan        None   \n",
       "4  http://www.investors.com/politics/ibd-tipp-pre...  Nonpartisan        None   \n",
       "\n",
       "   Difference  \n",
       "0       -0.04  \n",
       "1       -0.83  \n",
       "2        0.75  \n",
       "3       -0.05  \n",
       "4        0.02  "
      ]
     },
     "execution_count": 294,
     "metadata": {},
     "output_type": "execute_result"
    }
   ],
   "source": [
    "#finding the difference between the two candidates each time a poll is run\n",
    "poll_df['Difference'] = (poll_df.Trump - poll_df.Clinton)/100\n",
    "poll_df.head()"
   ]
  },
  {
   "cell_type": "code",
   "execution_count": 295,
   "metadata": {
    "collapsed": false
   },
   "outputs": [
    {
     "name": "stderr",
     "output_type": "stream",
     "text": [
      "C:\\Users\\none5\\Anaconda2\\lib\\site-packages\\ipykernel\\__main__.py:2: FutureWarning: order is deprecated, use sort_values(...)\n",
      "  from ipykernel import kernelapp as app\n"
     ]
    },
    {
     "data": {
      "text/html": [
       "<div>\n",
       "<table border=\"1\" class=\"dataframe\">\n",
       "  <thead>\n",
       "    <tr style=\"text-align: right;\">\n",
       "      <th></th>\n",
       "      <th>Start Date</th>\n",
       "      <th>Number of Observations</th>\n",
       "      <th>Trump</th>\n",
       "      <th>Clinton</th>\n",
       "      <th>Other</th>\n",
       "      <th>Undecided</th>\n",
       "      <th>Difference</th>\n",
       "    </tr>\n",
       "  </thead>\n",
       "  <tbody>\n",
       "    <tr>\n",
       "      <th>128</th>\n",
       "      <td>5/19/2015</td>\n",
       "      <td>1046.000000</td>\n",
       "      <td>34.25</td>\n",
       "      <td>48.750</td>\n",
       "      <td>2.50</td>\n",
       "      <td>14.000</td>\n",
       "      <td>-0.14500</td>\n",
       "    </tr>\n",
       "    <tr>\n",
       "      <th>153</th>\n",
       "      <td>6/20/2015</td>\n",
       "      <td>420.750000</td>\n",
       "      <td>35.00</td>\n",
       "      <td>47.250</td>\n",
       "      <td>NaN</td>\n",
       "      <td>17.750</td>\n",
       "      <td>-0.12250</td>\n",
       "    </tr>\n",
       "    <tr>\n",
       "      <th>155</th>\n",
       "      <td>6/21/2015</td>\n",
       "      <td>1005.000000</td>\n",
       "      <td>34.00</td>\n",
       "      <td>51.000</td>\n",
       "      <td>3.00</td>\n",
       "      <td>12.000</td>\n",
       "      <td>-0.17000</td>\n",
       "    </tr>\n",
       "    <tr>\n",
       "      <th>160</th>\n",
       "      <td>6/26/2015</td>\n",
       "      <td>890.000000</td>\n",
       "      <td>36.75</td>\n",
       "      <td>57.000</td>\n",
       "      <td>6.00</td>\n",
       "      <td>0.000</td>\n",
       "      <td>-0.20250</td>\n",
       "    </tr>\n",
       "    <tr>\n",
       "      <th>198</th>\n",
       "      <td>7/9/2015</td>\n",
       "      <td>499.250000</td>\n",
       "      <td>35.25</td>\n",
       "      <td>49.500</td>\n",
       "      <td>NaN</td>\n",
       "      <td>16.000</td>\n",
       "      <td>-0.14250</td>\n",
       "    </tr>\n",
       "    <tr>\n",
       "      <th>180</th>\n",
       "      <td>7/20/2015</td>\n",
       "      <td>702.333333</td>\n",
       "      <td>38.75</td>\n",
       "      <td>47.250</td>\n",
       "      <td>NaN</td>\n",
       "      <td>13.750</td>\n",
       "      <td>-0.08500</td>\n",
       "    </tr>\n",
       "    <tr>\n",
       "      <th>182</th>\n",
       "      <td>7/22/2015</td>\n",
       "      <td>931.000000</td>\n",
       "      <td>40.00</td>\n",
       "      <td>54.625</td>\n",
       "      <td>3.75</td>\n",
       "      <td>5.600</td>\n",
       "      <td>-0.14625</td>\n",
       "    </tr>\n",
       "    <tr>\n",
       "      <th>184</th>\n",
       "      <td>7/23/2015</td>\n",
       "      <td>1011.666667</td>\n",
       "      <td>37.75</td>\n",
       "      <td>47.750</td>\n",
       "      <td>3.50</td>\n",
       "      <td>11.000</td>\n",
       "      <td>-0.10000</td>\n",
       "    </tr>\n",
       "    <tr>\n",
       "      <th>187</th>\n",
       "      <td>7/26/2015</td>\n",
       "      <td>950.000000</td>\n",
       "      <td>40.00</td>\n",
       "      <td>49.000</td>\n",
       "      <td>NaN</td>\n",
       "      <td>12.000</td>\n",
       "      <td>-0.09000</td>\n",
       "    </tr>\n",
       "    <tr>\n",
       "      <th>192</th>\n",
       "      <td>7/31/2015</td>\n",
       "      <td>3477.000000</td>\n",
       "      <td>49.00</td>\n",
       "      <td>50.000</td>\n",
       "      <td>NaN</td>\n",
       "      <td>NaN</td>\n",
       "      <td>-0.01000</td>\n",
       "    </tr>\n",
       "    <tr>\n",
       "      <th>229</th>\n",
       "      <td>8/6/2015</td>\n",
       "      <td>823.000000</td>\n",
       "      <td>29.00</td>\n",
       "      <td>43.000</td>\n",
       "      <td>11.00</td>\n",
       "      <td>17.000</td>\n",
       "      <td>-0.14000</td>\n",
       "    </tr>\n",
       "    <tr>\n",
       "      <th>231</th>\n",
       "      <td>8/7/2015</td>\n",
       "      <td>1014.500000</td>\n",
       "      <td>42.25</td>\n",
       "      <td>45.250</td>\n",
       "      <td>NaN</td>\n",
       "      <td>12.750</td>\n",
       "      <td>-0.03000</td>\n",
       "    </tr>\n",
       "    <tr>\n",
       "      <th>202</th>\n",
       "      <td>8/11/2015</td>\n",
       "      <td>1008.000000</td>\n",
       "      <td>42.00</td>\n",
       "      <td>47.000</td>\n",
       "      <td>2.00</td>\n",
       "      <td>10.000</td>\n",
       "      <td>-0.05000</td>\n",
       "    </tr>\n",
       "    <tr>\n",
       "      <th>205</th>\n",
       "      <td>8/13/2015</td>\n",
       "      <td>627.500000</td>\n",
       "      <td>44.75</td>\n",
       "      <td>51.000</td>\n",
       "      <td>5.00</td>\n",
       "      <td>1.000</td>\n",
       "      <td>-0.06250</td>\n",
       "    </tr>\n",
       "    <tr>\n",
       "      <th>213</th>\n",
       "      <td>8/20/2015</td>\n",
       "      <td>958.666667</td>\n",
       "      <td>43.25</td>\n",
       "      <td>44.500</td>\n",
       "      <td>2.50</td>\n",
       "      <td>10.000</td>\n",
       "      <td>-0.01250</td>\n",
       "    </tr>\n",
       "    <tr>\n",
       "      <th>215</th>\n",
       "      <td>8/21/2015</td>\n",
       "      <td>3567.000000</td>\n",
       "      <td>54.00</td>\n",
       "      <td>46.000</td>\n",
       "      <td>NaN</td>\n",
       "      <td>NaN</td>\n",
       "      <td>0.08000</td>\n",
       "    </tr>\n",
       "    <tr>\n",
       "      <th>220</th>\n",
       "      <td>8/26/2015</td>\n",
       "      <td>1115.000000</td>\n",
       "      <td>42.25</td>\n",
       "      <td>51.500</td>\n",
       "      <td>NaN</td>\n",
       "      <td>6.250</td>\n",
       "      <td>-0.09250</td>\n",
       "    </tr>\n",
       "    <tr>\n",
       "      <th>223</th>\n",
       "      <td>8/28/2015</td>\n",
       "      <td>1056.600000</td>\n",
       "      <td>44.75</td>\n",
       "      <td>42.000</td>\n",
       "      <td>NaN</td>\n",
       "      <td>13.375</td>\n",
       "      <td>0.02750</td>\n",
       "    </tr>\n",
       "    <tr>\n",
       "      <th>246</th>\n",
       "      <td>9/2/2015</td>\n",
       "      <td>900.000000</td>\n",
       "      <td>45.00</td>\n",
       "      <td>40.000</td>\n",
       "      <td>NaN</td>\n",
       "      <td>16.000</td>\n",
       "      <td>0.05000</td>\n",
       "    </tr>\n",
       "    <tr>\n",
       "      <th>259</th>\n",
       "      <td>9/4/2015</td>\n",
       "      <td>1469.000000</td>\n",
       "      <td>46.20</td>\n",
       "      <td>47.600</td>\n",
       "      <td>3.25</td>\n",
       "      <td>7.500</td>\n",
       "      <td>-0.01400</td>\n",
       "    </tr>\n",
       "  </tbody>\n",
       "</table>\n",
       "</div>"
      ],
      "text/plain": [
       "    Start Date  Number of Observations  Trump  Clinton  Other  Undecided  \\\n",
       "128  5/19/2015             1046.000000  34.25   48.750   2.50     14.000   \n",
       "153  6/20/2015              420.750000  35.00   47.250    NaN     17.750   \n",
       "155  6/21/2015             1005.000000  34.00   51.000   3.00     12.000   \n",
       "160  6/26/2015              890.000000  36.75   57.000   6.00      0.000   \n",
       "198   7/9/2015              499.250000  35.25   49.500    NaN     16.000   \n",
       "180  7/20/2015              702.333333  38.75   47.250    NaN     13.750   \n",
       "182  7/22/2015              931.000000  40.00   54.625   3.75      5.600   \n",
       "184  7/23/2015             1011.666667  37.75   47.750   3.50     11.000   \n",
       "187  7/26/2015              950.000000  40.00   49.000    NaN     12.000   \n",
       "192  7/31/2015             3477.000000  49.00   50.000    NaN        NaN   \n",
       "229   8/6/2015              823.000000  29.00   43.000  11.00     17.000   \n",
       "231   8/7/2015             1014.500000  42.25   45.250    NaN     12.750   \n",
       "202  8/11/2015             1008.000000  42.00   47.000   2.00     10.000   \n",
       "205  8/13/2015              627.500000  44.75   51.000   5.00      1.000   \n",
       "213  8/20/2015              958.666667  43.25   44.500   2.50     10.000   \n",
       "215  8/21/2015             3567.000000  54.00   46.000    NaN        NaN   \n",
       "220  8/26/2015             1115.000000  42.25   51.500    NaN      6.250   \n",
       "223  8/28/2015             1056.600000  44.75   42.000    NaN     13.375   \n",
       "246   9/2/2015              900.000000  45.00   40.000    NaN     16.000   \n",
       "259   9/4/2015             1469.000000  46.20   47.600   3.25      7.500   \n",
       "\n",
       "     Difference  \n",
       "128    -0.14500  \n",
       "153    -0.12250  \n",
       "155    -0.17000  \n",
       "160    -0.20250  \n",
       "198    -0.14250  \n",
       "180    -0.08500  \n",
       "182    -0.14625  \n",
       "184    -0.10000  \n",
       "187    -0.09000  \n",
       "192    -0.01000  \n",
       "229    -0.14000  \n",
       "231    -0.03000  \n",
       "202    -0.05000  \n",
       "205    -0.06250  \n",
       "213    -0.01250  \n",
       "215     0.08000  \n",
       "220    -0.09250  \n",
       "223     0.02750  \n",
       "246     0.05000  \n",
       "259    -0.01400  "
      ]
     },
     "execution_count": 295,
     "metadata": {},
     "output_type": "execute_result"
    }
   ],
   "source": [
    "poll_df = poll_df.groupby(['Start Date'],as_index=False).mean()\n",
    "poll_df = poll_df.ix[pd.to_datetime(poll_df['Start Date']).order().index]\n",
    "poll_df.head(20)"
   ]
  },
  {
   "cell_type": "markdown",
   "metadata": {},
   "source": [
    "** 5) We can see from the plot below that the difference in poll results between the candidates has decreased over time"
   ]
  },
  {
   "cell_type": "code",
   "execution_count": 296,
   "metadata": {
    "collapsed": false
   },
   "outputs": [
    {
     "data": {
      "text/plain": [
       "<matplotlib.axes._subplots.AxesSubplot at 0x3ef5c9e8>"
      ]
     },
     "execution_count": 296,
     "metadata": {},
     "output_type": "execute_result"
    },
    {
     "data": {
      "image/png": "[encoded data removed]",
      "text/plain": [
       "<matplotlib.figure.Figure at 0x6f0aef28>"
      ]
     },
     "metadata": {},
     "output_type": "display_data"
    }
   ],
   "source": [
    "poll_df.plot('Start Date','Difference',figsize=(12,4),marker='o',linestyle='-',color='purple')"
   ]
  },
  {
   "cell_type": "code",
   "execution_count": 297,
   "metadata": {
    "collapsed": false
   },
   "outputs": [
    {
     "name": "stdout",
     "output_type": "stream",
     "text": [
      "209\n",
      "262\n"
     ]
    }
   ],
   "source": [
    "#find range of possible dates to help mark days of the debate on the graph below\n",
    "row_in = 0\n",
    "xlimit = []\n",
    "\n",
    "for date in poll_df['Start Date']:\n",
    "    if (date[0:2] == '10' or date[0:1] == '9')and date[-4:] == '2016':\n",
    "        xlimit.append(row_in)\n",
    "        row_in +=1\n",
    "    else:\n",
    "        row_in += 1\n",
    "        \n",
    "print min(xlimit)\n",
    "print max(xlimit)"
   ]
  },
  {
   "cell_type": "markdown",
   "metadata": {},
   "source": [
    "** 6) Because of the way the difference is calculated (Trump - Clinton), a dip in the graph below indicates rising approval for\n",
    "Clinton.  The day of each debate is marked with a grey line on the graph and we can see a dip after each debate which \n",
    "means Trump did poorly in each debate."
   ]
  },
  {
   "cell_type": "code",
   "execution_count": 298,
   "metadata": {
    "collapsed": false
   },
   "outputs": [
    {
     "data": {
      "text/plain": [
       "<matplotlib.lines.Line2D at 0x13bc742b0>"
      ]
     },
     "execution_count": 298,
     "metadata": {},
     "output_type": "execute_result"
    },
    {
     "data": {
      "image/png": "[encoded data removed]",
      "text/plain": [
       "<matplotlib.figure.Figure at 0x11eccdbe0>"
      ]
     },
     "metadata": {},
     "output_type": "display_data"
    }
   ],
   "source": [
    "poll_df.plot('Start Date','Difference',figsize=(12,4),marker='o',linestyle='-',color='purple',xlim=(209,262))\n",
    "\n",
    "#9/26/2016\n",
    "plt.axvline(x=209+25,linewidth=3,color='grey')\n",
    "\n",
    "#10/9/2016\n",
    "plt.axvline(x=262-22,linewidth=3,color='grey')\n",
    "\n",
    "#10/19/2016\n",
    "plt.axvline(x=262-12,linewidth=3,color='grey')"
   ]
  },
  {
   "cell_type": "markdown",
   "metadata": {},
   "source": [
    "1.) How much was donated and what was the average donation?\n",
    "\n",
    "2.) How did the donations differ between candidates?\n",
    "\n",
    "3.) How did the donations differ between Democrats and Republicans?\n",
    "\n",
    "4.) What were the demographics of the donors?\n",
    "\n",
    "5.) Is there a pattern to donation amounts?"
   ]
  },
  {
   "cell_type": "code",
   "execution_count": 299,
   "metadata": {
    "collapsed": false
   },
   "outputs": [],
   "source": [
    "donor_df = pd.read_csv('2016_Election_Donor_Data.csv')"
   ]
  },
  {
   "cell_type": "code",
   "execution_count": 300,
   "metadata": {
    "collapsed": false
   },
   "outputs": [
    {
     "name": "stdout",
     "output_type": "stream",
     "text": [
      "<class 'pandas.core.frame.DataFrame'>\n",
      "Index: 7344719 entries, C00458844 to C00623884\n",
      "Data columns (total 18 columns):\n",
      "cmte_id              object\n",
      "cand_id              object\n",
      "cand_nm              object\n",
      "contbr_nm            object\n",
      "contbr_city          object\n",
      "contbr_st            object\n",
      "contbr_zip           object\n",
      "contbr_employer      object\n",
      "contbr_occupation    float64\n",
      "contb_receipt_amt    object\n",
      "contb_receipt_dt     object\n",
      "receipt_desc         object\n",
      "memo_cd              object\n",
      "memo_text            object\n",
      "form_tp              int64\n",
      "file_num             object\n",
      "tran_id              object\n",
      "election_tp          float64\n",
      "dtypes: float64(2), int64(1), object(15)\n",
      "memory usage: 1.0+ GB\n"
     ]
    }
   ],
   "source": [
    "donor_df.info()"
   ]
  },
  {
   "cell_type": "code",
   "execution_count": 301,
   "metadata": {
    "collapsed": false
   },
   "outputs": [],
   "source": [
    "donor_df = donor_df.drop(donor_df.index[[0,1]])\n",
    "del donor_df['tran_id']\n",
    "del donor_df['election_tp']"
   ]
  },
  {
   "cell_type": "code",
   "execution_count": 302,
   "metadata": {
    "collapsed": false
   },
   "outputs": [
    {
     "data": {
      "text/html": [
       "<div>\n",
       "<table border=\"1\" class=\"dataframe\">\n",
       "  <thead>\n",
       "    <tr style=\"text-align: right;\">\n",
       "      <th></th>\n",
       "      <th>cmte_id</th>\n",
       "      <th>cand_id</th>\n",
       "      <th>cand_nm</th>\n",
       "      <th>contbr_nm</th>\n",
       "      <th>contbr_city</th>\n",
       "      <th>contbr_st</th>\n",
       "      <th>contbr_zip</th>\n",
       "      <th>contbr_employer</th>\n",
       "      <th>contbr_occupation</th>\n",
       "      <th>contb_receipt_amt</th>\n",
       "      <th>contb_receipt_dt</th>\n",
       "      <th>receipt_desc</th>\n",
       "      <th>memo_cd</th>\n",
       "      <th>memo_text</th>\n",
       "      <th>form_tp</th>\n",
       "      <th>file_num</th>\n",
       "    </tr>\n",
       "  </thead>\n",
       "  <tbody>\n",
       "    <tr>\n",
       "      <th>C00496034</th>\n",
       "      <td>SB28A.I7077</td>\n",
       "      <td>P20002721</td>\n",
       "      <td>Santorum, Richard J.</td>\n",
       "      <td>MOTHER EMANUEL HOPE FUND</td>\n",
       "      <td>CHARLESTON</td>\n",
       "      <td>SC</td>\n",
       "      <td>29402</td>\n",
       "      <td>NaN</td>\n",
       "      <td>NaN</td>\n",
       "      <td>-1500.0</td>\n",
       "      <td>22-JUN-15</td>\n",
       "      <td>Refund</td>\n",
       "      <td>NaN</td>\n",
       "      <td>NaN</td>\n",
       "      <td>SB28A</td>\n",
       "      <td>1015452</td>\n",
       "    </tr>\n",
       "    <tr>\n",
       "      <th>C00496034</th>\n",
       "      <td>SA17A.934008</td>\n",
       "      <td>P20002721</td>\n",
       "      <td>Santorum, Richard J.</td>\n",
       "      <td>WYLIE, WAYNE</td>\n",
       "      <td>HURST</td>\n",
       "      <td>TX</td>\n",
       "      <td>760542030</td>\n",
       "      <td>JPMORGAN CHASE</td>\n",
       "      <td>CREDIT OFFICER</td>\n",
       "      <td>100.0</td>\n",
       "      <td>05-APR-16</td>\n",
       "      <td>NaN</td>\n",
       "      <td>NaN</td>\n",
       "      <td>DEBT RETIREMENT</td>\n",
       "      <td>SA17A</td>\n",
       "      <td>1084548</td>\n",
       "    </tr>\n",
       "    <tr>\n",
       "      <th>C00496034</th>\n",
       "      <td>SA17.934004</td>\n",
       "      <td>P20002721</td>\n",
       "      <td>Santorum, Richard J.</td>\n",
       "      <td>GUNN, GEORGE</td>\n",
       "      <td>DALLAS</td>\n",
       "      <td>TX</td>\n",
       "      <td>752051646</td>\n",
       "      <td>HSI</td>\n",
       "      <td>GEOLOGIST</td>\n",
       "      <td>250.0</td>\n",
       "      <td>22-APR-15</td>\n",
       "      <td>NaN</td>\n",
       "      <td>NaN</td>\n",
       "      <td>PRIMARY 2012 DEBT RETIREMENT</td>\n",
       "      <td>SA17A</td>\n",
       "      <td>1015452</td>\n",
       "    </tr>\n",
       "    <tr>\n",
       "      <th>C00500587</th>\n",
       "      <td>SA43959</td>\n",
       "      <td>P20003281</td>\n",
       "      <td>Perry, James R. (Rick)</td>\n",
       "      <td>RUSSELL, BILLY MR.</td>\n",
       "      <td>PELHAM</td>\n",
       "      <td>AL</td>\n",
       "      <td>35124</td>\n",
       "      <td>TRIPPLE R PIPELINE</td>\n",
       "      <td>CORROSION INSPECTOR</td>\n",
       "      <td>500.0</td>\n",
       "      <td>08-JUN-15</td>\n",
       "      <td>NaN</td>\n",
       "      <td>NaN</td>\n",
       "      <td>NaN</td>\n",
       "      <td>SA17A</td>\n",
       "      <td>1014957</td>\n",
       "    </tr>\n",
       "    <tr>\n",
       "      <th>C00500587</th>\n",
       "      <td>SA47417</td>\n",
       "      <td>P20003281</td>\n",
       "      <td>Perry, James R. (Rick)</td>\n",
       "      <td>HASTON, FRED</td>\n",
       "      <td>TRUSSVILLE</td>\n",
       "      <td>AL</td>\n",
       "      <td>35173</td>\n",
       "      <td>CANE RIVER RESOURCES INC</td>\n",
       "      <td>PETROLEUM ENGINEER</td>\n",
       "      <td>100.0</td>\n",
       "      <td>17-AUG-15</td>\n",
       "      <td>NaN</td>\n",
       "      <td>NaN</td>\n",
       "      <td>NaN</td>\n",
       "      <td>SA17A</td>\n",
       "      <td>1028934</td>\n",
       "    </tr>\n",
       "  </tbody>\n",
       "</table>\n",
       "</div>"
      ],
      "text/plain": [
       "                cmte_id    cand_id                 cand_nm  \\\n",
       "C00496034   SB28A.I7077  P20002721    Santorum, Richard J.   \n",
       "C00496034  SA17A.934008  P20002721    Santorum, Richard J.   \n",
       "C00496034   SA17.934004  P20002721    Santorum, Richard J.   \n",
       "C00500587       SA43959  P20003281  Perry, James R. (Rick)   \n",
       "C00500587       SA47417  P20003281  Perry, James R. (Rick)   \n",
       "\n",
       "                          contbr_nm contbr_city contbr_st contbr_zip  \\\n",
       "C00496034  MOTHER EMANUEL HOPE FUND  CHARLESTON        SC      29402   \n",
       "C00496034              WYLIE, WAYNE       HURST        TX  760542030   \n",
       "C00496034              GUNN, GEORGE      DALLAS        TX  752051646   \n",
       "C00500587        RUSSELL, BILLY MR.      PELHAM        AL      35124   \n",
       "C00500587              HASTON, FRED  TRUSSVILLE        AL      35173   \n",
       "\n",
       "                    contbr_employer    contbr_occupation  contb_receipt_amt  \\\n",
       "C00496034                       NaN                  NaN            -1500.0   \n",
       "C00496034            JPMORGAN CHASE       CREDIT OFFICER              100.0   \n",
       "C00496034                       HSI            GEOLOGIST              250.0   \n",
       "C00500587        TRIPPLE R PIPELINE  CORROSION INSPECTOR              500.0   \n",
       "C00500587  CANE RIVER RESOURCES INC   PETROLEUM ENGINEER              100.0   \n",
       "\n",
       "          contb_receipt_dt receipt_desc memo_cd                     memo_text  \\\n",
       "C00496034        22-JUN-15       Refund     NaN                           NaN   \n",
       "C00496034        05-APR-16          NaN     NaN               DEBT RETIREMENT   \n",
       "C00496034        22-APR-15          NaN     NaN  PRIMARY 2012 DEBT RETIREMENT   \n",
       "C00500587        08-JUN-15          NaN     NaN                           NaN   \n",
       "C00500587        17-AUG-15          NaN     NaN                           NaN   \n",
       "\n",
       "          form_tp  file_num  \n",
       "C00496034   SB28A   1015452  \n",
       "C00496034   SA17A   1084548  \n",
       "C00496034   SA17A   1015452  \n",
       "C00500587   SA17A   1014957  \n",
       "C00500587   SA17A   1028934  "
      ]
     },
     "execution_count": 302,
     "metadata": {},
     "output_type": "execute_result"
    }
   ],
   "source": [
    "#The 'mixed columns' error above was because the data is misaligned.  Fixing it here.\n",
    "donor_df2 = donor_df.copy()\n",
    "\n",
    "columnsOriginal = donor_df.columns.values.tolist()\n",
    "columnsFixed = donor_df2.columns.values.tolist()\n",
    "\n",
    "for i in xrange(len(columnsFixed)):\n",
    "    donor_df2[columnsFixed[i]] = donor_df[columnsOriginal[i-1]]\n",
    "    \n",
    "donor_df2.head()\n"
   ]
  },
  {
   "cell_type": "code",
   "execution_count": 303,
   "metadata": {
    "collapsed": false
   },
   "outputs": [
    {
     "data": {
      "text/html": [
       "<div>\n",
       "<table border=\"1\" class=\"dataframe\">\n",
       "  <thead>\n",
       "    <tr style=\"text-align: right;\">\n",
       "      <th></th>\n",
       "      <th>cmte_id</th>\n",
       "      <th>cand_id</th>\n",
       "      <th>cand_nm</th>\n",
       "      <th>contbr_nm</th>\n",
       "      <th>contbr_city</th>\n",
       "      <th>contbr_st</th>\n",
       "      <th>contbr_zip</th>\n",
       "      <th>contbr_employer</th>\n",
       "      <th>contbr_occupation</th>\n",
       "      <th>contb_receipt_amt</th>\n",
       "      <th>contb_receipt_dt</th>\n",
       "      <th>receipt_desc</th>\n",
       "      <th>memo_cd</th>\n",
       "      <th>memo_text</th>\n",
       "      <th>form_tp</th>\n",
       "      <th>file_num</th>\n",
       "    </tr>\n",
       "  </thead>\n",
       "  <tbody>\n",
       "    <tr>\n",
       "      <th>C00496034</th>\n",
       "      <td>SB28A.I7077</td>\n",
       "      <td>P20002721</td>\n",
       "      <td>Santorum, Richard J.</td>\n",
       "      <td>MOTHER EMANUEL HOPE FUND</td>\n",
       "      <td>CHARLESTON</td>\n",
       "      <td>SC</td>\n",
       "      <td>29402</td>\n",
       "      <td>NaN</td>\n",
       "      <td>NaN</td>\n",
       "      <td>-1500.0</td>\n",
       "      <td>22-JUN-15</td>\n",
       "      <td>Refund</td>\n",
       "      <td>NaN</td>\n",
       "      <td>NaN</td>\n",
       "      <td>SB28A</td>\n",
       "      <td>1015452</td>\n",
       "    </tr>\n",
       "    <tr>\n",
       "      <th>C00496034</th>\n",
       "      <td>SA17A.934008</td>\n",
       "      <td>P20002721</td>\n",
       "      <td>Santorum, Richard J.</td>\n",
       "      <td>WYLIE, WAYNE</td>\n",
       "      <td>HURST</td>\n",
       "      <td>TX</td>\n",
       "      <td>760542030</td>\n",
       "      <td>JPMORGAN CHASE</td>\n",
       "      <td>CREDIT OFFICER</td>\n",
       "      <td>100.0</td>\n",
       "      <td>05-APR-16</td>\n",
       "      <td>NaN</td>\n",
       "      <td>NaN</td>\n",
       "      <td>DEBT RETIREMENT</td>\n",
       "      <td>SA17A</td>\n",
       "      <td>1084548</td>\n",
       "    </tr>\n",
       "    <tr>\n",
       "      <th>C00496034</th>\n",
       "      <td>SA17.934004</td>\n",
       "      <td>P20002721</td>\n",
       "      <td>Santorum, Richard J.</td>\n",
       "      <td>GUNN, GEORGE</td>\n",
       "      <td>DALLAS</td>\n",
       "      <td>TX</td>\n",
       "      <td>752051646</td>\n",
       "      <td>HSI</td>\n",
       "      <td>GEOLOGIST</td>\n",
       "      <td>250.0</td>\n",
       "      <td>22-APR-15</td>\n",
       "      <td>NaN</td>\n",
       "      <td>NaN</td>\n",
       "      <td>PRIMARY 2012 DEBT RETIREMENT</td>\n",
       "      <td>SA17A</td>\n",
       "      <td>1015452</td>\n",
       "    </tr>\n",
       "    <tr>\n",
       "      <th>C00500587</th>\n",
       "      <td>SA43959</td>\n",
       "      <td>P20003281</td>\n",
       "      <td>Perry, James R. (Rick)</td>\n",
       "      <td>RUSSELL, BILLY MR.</td>\n",
       "      <td>PELHAM</td>\n",
       "      <td>AL</td>\n",
       "      <td>35124</td>\n",
       "      <td>TRIPPLE R PIPELINE</td>\n",
       "      <td>CORROSION INSPECTOR</td>\n",
       "      <td>500.0</td>\n",
       "      <td>08-JUN-15</td>\n",
       "      <td>NaN</td>\n",
       "      <td>NaN</td>\n",
       "      <td>NaN</td>\n",
       "      <td>SA17A</td>\n",
       "      <td>1014957</td>\n",
       "    </tr>\n",
       "    <tr>\n",
       "      <th>C00500587</th>\n",
       "      <td>SA47417</td>\n",
       "      <td>P20003281</td>\n",
       "      <td>Perry, James R. (Rick)</td>\n",
       "      <td>HASTON, FRED</td>\n",
       "      <td>TRUSSVILLE</td>\n",
       "      <td>AL</td>\n",
       "      <td>35173</td>\n",
       "      <td>CANE RIVER RESOURCES INC</td>\n",
       "      <td>PETROLEUM ENGINEER</td>\n",
       "      <td>100.0</td>\n",
       "      <td>17-AUG-15</td>\n",
       "      <td>NaN</td>\n",
       "      <td>NaN</td>\n",
       "      <td>NaN</td>\n",
       "      <td>SA17A</td>\n",
       "      <td>1028934</td>\n",
       "    </tr>\n",
       "  </tbody>\n",
       "</table>\n",
       "</div>"
      ],
      "text/plain": [
       "                cmte_id    cand_id                 cand_nm  \\\n",
       "C00496034   SB28A.I7077  P20002721    Santorum, Richard J.   \n",
       "C00496034  SA17A.934008  P20002721    Santorum, Richard J.   \n",
       "C00496034   SA17.934004  P20002721    Santorum, Richard J.   \n",
       "C00500587       SA43959  P20003281  Perry, James R. (Rick)   \n",
       "C00500587       SA47417  P20003281  Perry, James R. (Rick)   \n",
       "\n",
       "                          contbr_nm contbr_city contbr_st contbr_zip  \\\n",
       "C00496034  MOTHER EMANUEL HOPE FUND  CHARLESTON        SC      29402   \n",
       "C00496034              WYLIE, WAYNE       HURST        TX  760542030   \n",
       "C00496034              GUNN, GEORGE      DALLAS        TX  752051646   \n",
       "C00500587        RUSSELL, BILLY MR.      PELHAM        AL      35124   \n",
       "C00500587              HASTON, FRED  TRUSSVILLE        AL      35173   \n",
       "\n",
       "                    contbr_employer    contbr_occupation  contb_receipt_amt  \\\n",
       "C00496034                       NaN                  NaN            -1500.0   \n",
       "C00496034            JPMORGAN CHASE       CREDIT OFFICER              100.0   \n",
       "C00496034                       HSI            GEOLOGIST              250.0   \n",
       "C00500587        TRIPPLE R PIPELINE  CORROSION INSPECTOR              500.0   \n",
       "C00500587  CANE RIVER RESOURCES INC   PETROLEUM ENGINEER              100.0   \n",
       "\n",
       "          contb_receipt_dt receipt_desc memo_cd                     memo_text  \\\n",
       "C00496034        22-JUN-15       Refund     NaN                           NaN   \n",
       "C00496034        05-APR-16          NaN     NaN               DEBT RETIREMENT   \n",
       "C00496034        22-APR-15          NaN     NaN  PRIMARY 2012 DEBT RETIREMENT   \n",
       "C00500587        08-JUN-15          NaN     NaN                           NaN   \n",
       "C00500587        17-AUG-15          NaN     NaN                           NaN   \n",
       "\n",
       "          form_tp  file_num  \n",
       "C00496034   SB28A   1015452  \n",
       "C00496034   SA17A   1084548  \n",
       "C00496034   SA17A   1015452  \n",
       "C00500587   SA17A   1014957  \n",
       "C00500587   SA17A   1028934  "
      ]
     },
     "execution_count": 303,
     "metadata": {},
     "output_type": "execute_result"
    }
   ],
   "source": [
    "donor_df = donor_df2\n",
    "donor_df.head()"
   ]
  },
  {
   "cell_type": "code",
   "execution_count": 304,
   "metadata": {
    "collapsed": false
   },
   "outputs": [
    {
     "data": {
      "text/plain": [
       " 25.00      1033337\n",
       " 50.00       870984\n",
       " 100.00      757678\n",
       " 10.00       632427\n",
       " 5.00        433415\n",
       " 15.00       326118\n",
       " 27.00       313223\n",
       " 250.00      270171\n",
       " 35.00       149128\n",
       " 20.00       141601\n",
       " 200.00      130669\n",
       " 40.00       124374\n",
       " 19.00       120475\n",
       " 500.00      112568\n",
       " 8.00        102763\n",
       " 80.00        97407\n",
       " 75.00        93369\n",
       " 28.00        85833\n",
       " 2700.00      85074\n",
       " 1000.00      78065\n",
       " 3.00         76657\n",
       " 38.00        69105\n",
       " 1.00         57423\n",
       " 30.00        54447\n",
       " 150.00       49462\n",
       " 37.00        39903\n",
       " 400.00       32299\n",
       " 16.00        27644\n",
       " 7.00         24871\n",
       " 300.00       22841\n",
       "             ...   \n",
       "-96.01            1\n",
       " 360.73           1\n",
       "-375.27           1\n",
       "-43.08            1\n",
       " 300.14           1\n",
       " 198.49           1\n",
       "-237.67           1\n",
       " 202.33           1\n",
       " 296.62           1\n",
       " 208.38           1\n",
       " 182.53           1\n",
       "-294.51           1\n",
       "-105.27           1\n",
       " 393.49           1\n",
       " 66.73            1\n",
       " 245.54           1\n",
       " 135.48           1\n",
       "-217.52           1\n",
       " 247.76           1\n",
       " 342.95           1\n",
       " 11.35            1\n",
       " 684.45           1\n",
       " 811.45           1\n",
       " 141.12           1\n",
       "-48.75            1\n",
       "-225.40           1\n",
       " 98.36            1\n",
       " 169.42           1\n",
       " 106.34           1\n",
       " 129.93           1\n",
       "Name: contb_receipt_amt, dtype: int64"
      ]
     },
     "execution_count": 304,
     "metadata": {},
     "output_type": "execute_result"
    }
   ],
   "source": [
    "donor_df['contb_receipt_amt'].value_counts()"
   ]
  },
  {
   "cell_type": "code",
   "execution_count": 305,
   "metadata": {
    "collapsed": false
   },
   "outputs": [
    {
     "name": "stdout",
     "output_type": "stream",
     "text": [
      "The average donation was 124.21 with a std of 7726.84\n",
      "The total donations was 899252820.59\n"
     ]
    }
   ],
   "source": [
    "#1) average donation was 124.21 with the total amount donated of 899,252,820.59\n",
    "don_mean = donor_df['contb_receipt_amt'].mean()\n",
    "\n",
    "don_std = donor_df['contb_receipt_amt'].std()\n",
    "\n",
    "don_sum = donor_df['contb_receipt_amt'].sum()\n",
    "\n",
    "print 'The average donation was %.2f with a std of %.2f' %(don_mean,don_std)\n",
    "print 'The total donations was %.2f' %(don_sum)"
   ]
  },
  {
   "cell_type": "code",
   "execution_count": 306,
   "metadata": {
    "collapsed": false
   },
   "outputs": [
    {
     "name": "stderr",
     "output_type": "stream",
     "text": [
      "C:\\Users\\none5\\Anaconda2\\lib\\site-packages\\ipykernel\\__main__.py:2: FutureWarning: sort is deprecated, use sort_values(inplace=True) for INPLACE sorting\n",
      "  from ipykernel import kernelapp as app\n"
     ]
    },
    {
     "data": {
      "text/plain": [
       "C00577130      -93308.00\n",
       "C00580100      -84236.80\n",
       "C00575795      -20000.00\n",
       "C00573519      -18100.00\n",
       "C00574624      -16600.00\n",
       "C00573519      -16300.00\n",
       "C00574624      -13500.00\n",
       "C00573519      -13000.00\n",
       "C00573519      -12242.00\n",
       "C00577130      -12000.00\n",
       "C00573519      -11700.00\n",
       "C00573519      -11500.00\n",
       "C00573519      -10800.00\n",
       "C00574624      -10800.00\n",
       "C00577130      -10500.00\n",
       "C00577130      -10200.00\n",
       "C00574624      -10100.00\n",
       "C00573519      -10000.00\n",
       "C00577130      -10000.00\n",
       "C00574624       -9200.00\n",
       "C00577130       -8460.00\n",
       "C00577130       -8432.99\n",
       "C00574624       -8300.00\n",
       "C00573519       -8150.00\n",
       "C00574624       -8100.00\n",
       "C00573519       -8100.00\n",
       "C00580480       -8100.00\n",
       "C00577130       -7769.00\n",
       "C00574624       -7700.00\n",
       "C00580100       -7700.00\n",
       "                ...     \n",
       "C00581876       16200.00\n",
       "C00573519       18000.00\n",
       "C00581876       20000.00\n",
       "C00575795       20000.00\n",
       "C00581876       25000.00\n",
       "C00581876       29100.00\n",
       "C00580100       86936.80\n",
       "C00575795      974215.27\n",
       "C00575795     1467070.94\n",
       "C00575795     1486569.50\n",
       "C00575795     1603724.41\n",
       "C00575795     1605003.45\n",
       "C00575795     1797624.94\n",
       "C00575795     1951833.99\n",
       "C00575795     2069048.84\n",
       "C00575795     2274127.93\n",
       "C00575795     2445439.09\n",
       "C00575795     2595810.12\n",
       "C00575795     2669426.29\n",
       "C00575795     2766224.40\n",
       "C00575795     2976430.32\n",
       "C00575795     3600489.08\n",
       "C00575795     3686373.26\n",
       "C00575795     4126693.23\n",
       "C00575795     4560967.14\n",
       "C00575795     4575438.56\n",
       "C00575795     4904860.51\n",
       "C00575795     6358481.89\n",
       "C00575795     7402361.45\n",
       "C00575795    12777705.58\n",
       "Name: contb_receipt_amt, dtype: float64"
      ]
     },
     "execution_count": 306,
     "metadata": {},
     "output_type": "execute_result"
    }
   ],
   "source": [
    "top_donor = donor_df['contb_receipt_amt'].copy()\n",
    "top_donor.sort()\n",
    "top_donor"
   ]
  },
  {
   "cell_type": "code",
   "execution_count": 307,
   "metadata": {
    "collapsed": false
   },
   "outputs": [
    {
     "name": "stderr",
     "output_type": "stream",
     "text": [
      "C:\\Users\\none5\\Anaconda2\\lib\\site-packages\\ipykernel\\__main__.py:3: FutureWarning: sort is deprecated, use sort_values(inplace=True) for INPLACE sorting\n",
      "  app.launch_new_instance()\n"
     ]
    },
    {
     "data": {
      "text/plain": [
       "C00575449           0.01\n",
       "C00575795           0.01\n",
       "C00578658           0.01\n",
       "C00575795           0.01\n",
       "C00575795           0.01\n",
       "C00575795           0.01\n",
       "C00575795           0.01\n",
       "C00575795           0.01\n",
       "C00575795           0.02\n",
       "C00575795           0.02\n",
       "C00575795           0.04\n",
       "C00575795           0.04\n",
       "C00575795           0.04\n",
       "C00575795           0.04\n",
       "C00575795           0.04\n",
       "C00575795           0.04\n",
       "C00575795           0.04\n",
       "C00575795           0.04\n",
       "C00575795           0.04\n",
       "C00575795           0.04\n",
       "C00575795           0.04\n",
       "C00575795           0.05\n",
       "C00575795           0.05\n",
       "C00575795           0.05\n",
       "C00575795           0.05\n",
       "C00575795           0.05\n",
       "C00575795           0.05\n",
       "C00575795           0.05\n",
       "C00575795           0.05\n",
       "C00575795           0.05\n",
       "                ...     \n",
       "C00581876       16200.00\n",
       "C00573519       18000.00\n",
       "C00581876       20000.00\n",
       "C00575795       20000.00\n",
       "C00581876       25000.00\n",
       "C00581876       29100.00\n",
       "C00580100       86936.80\n",
       "C00575795      974215.27\n",
       "C00575795     1467070.94\n",
       "C00575795     1486569.50\n",
       "C00575795     1603724.41\n",
       "C00575795     1605003.45\n",
       "C00575795     1797624.94\n",
       "C00575795     1951833.99\n",
       "C00575795     2069048.84\n",
       "C00575795     2274127.93\n",
       "C00575795     2445439.09\n",
       "C00575795     2595810.12\n",
       "C00575795     2669426.29\n",
       "C00575795     2766224.40\n",
       "C00575795     2976430.32\n",
       "C00575795     3600489.08\n",
       "C00575795     3686373.26\n",
       "C00575795     4126693.23\n",
       "C00575795     4560967.14\n",
       "C00575795     4575438.56\n",
       "C00575795     4904860.51\n",
       "C00575795     6358481.89\n",
       "C00575795     7402361.45\n",
       "C00575795    12777705.58\n",
       "Name: contb_receipt_amt, dtype: float64"
      ]
     },
     "execution_count": 307,
     "metadata": {},
     "output_type": "execute_result"
    }
   ],
   "source": [
    "#can't have negative donations.  These are thrown out.\n",
    "top_donor = top_donor[top_donor > 0]\n",
    "top_donor.sort()\n",
    "top_donor"
   ]
  },
  {
   "cell_type": "code",
   "execution_count": 308,
   "metadata": {
    "collapsed": false
   },
   "outputs": [
    {
     "data": {
      "text/plain": [
       "25.0     1033337\n",
       "50.0      870984\n",
       "100.0     757678\n",
       "10.0      632427\n",
       "5.0       433415\n",
       "15.0      326118\n",
       "27.0      313223\n",
       "250.0     270171\n",
       "35.0      149128\n",
       "20.0      141601\n",
       "Name: contb_receipt_amt, dtype: int64"
      ]
     },
     "execution_count": 308,
     "metadata": {},
     "output_type": "execute_result"
    }
   ],
   "source": [
    "#5) most common donations are round amounts 10,25,50 and 100\n",
    "top_donor.value_counts().head(10)"
   ]
  },
  {
   "cell_type": "code",
   "execution_count": 309,
   "metadata": {
    "collapsed": false
   },
   "outputs": [
    {
     "data": {
      "text/plain": [
       "<matplotlib.axes._subplots.AxesSubplot at 0x1343dd908>"
      ]
     },
     "execution_count": 309,
     "metadata": {},
     "output_type": "execute_result"
    },
    {
     "data": {
      "image/png": "[encoded data removed]",
      "text/plain": [
       "<matplotlib.figure.Figure at 0x16831ef98>"
      ]
     },
     "metadata": {},
     "output_type": "display_data"
    }
   ],
   "source": [
    "common_donations = top_donor[top_donor < 2500]\n",
    "common_donations.hist(bins=100)"
   ]
  },
  {
   "cell_type": "code",
   "execution_count": 310,
   "metadata": {
    "collapsed": false
   },
   "outputs": [
    {
     "data": {
      "text/plain": [
       "<matplotlib.axes._subplots.AxesSubplot at 0x60c4ec18>"
      ]
     },
     "execution_count": 310,
     "metadata": {},
     "output_type": "execute_result"
    },
    {
     "data": {
      "image/png": "[encoded data removed]",
      "text/plain": [
       "<matplotlib.figure.Figure at 0x1343df748>"
      ]
     },
     "metadata": {},
     "output_type": "display_data"
    }
   ],
   "source": [
    "common_donations = top_donor[top_donor < 500]\n",
    "common_donations.hist(bins=100)"
   ]
  },
  {
   "cell_type": "code",
   "execution_count": 311,
   "metadata": {
    "collapsed": false
   },
   "outputs": [
    {
     "data": {
      "text/plain": [
       "array(['Santorum, Richard J.', 'Perry, James R. (Rick)',\n",
       "       'Carson, Benjamin S.', \"Cruz, Rafael Edward 'Ted'\", 'Paul, Rand',\n",
       "       'Clinton, Hillary Rodham', 'Sanders, Bernard', 'Fiorina, Carly',\n",
       "       'Huckabee, Mike', 'Pataki, George E.', \"O'Malley, Martin Joseph\",\n",
       "       'Graham, Lindsey O.', 'Bush, Jeb', 'Trump, Donald J.',\n",
       "       'Jindal, Bobby', 'Christie, Christopher J.', 'Walker, Scott',\n",
       "       'Stein, Jill', 'Webb, James Henry Jr.', 'Kasich, John R.',\n",
       "       'Gilmore, James S III', 'Lessig, Lawrence', 'Johnson, Gary',\n",
       "       'McMullin, Evan'], dtype=object)"
      ]
     },
     "execution_count": 311,
     "metadata": {},
     "output_type": "execute_result"
    }
   ],
   "source": [
    "candidates = donor_df.cand_nm.unique()\n",
    "candidates"
   ]
  },
  {
   "cell_type": "code",
   "execution_count": 312,
   "metadata": {
    "collapsed": false
   },
   "outputs": [],
   "source": [
    "party_map = {'Rubio, Marco': 'Republican',\n",
    "           'Santorum, Richard J.': 'Republican',\n",
    "           'Perry, James R. (Rick)': 'Republican',\n",
    "           'Carson, Benjamin S.': 'Republican',\n",
    "           'Cruz, Rafael Edward \\'Ted\\'': 'Republican',\n",
    "           'Paul, Rand': 'Republican',\n",
    "           'Clinton, Hillary Rodham': 'Democrat',\n",
    "           'Sanders, Bernard': 'Democrat',\n",
    "           'Fiorina, Carly': 'Republican',\n",
    "           'Huckabee, Mike': 'Republican',\n",
    "           'Bush, Jeb': 'Republican',\n",
    "           'Trump, Donald J.': 'Republican',\n",
    "           'Jindal, Bobby': 'Republican',\n",
    "           'Christie, Christopher J.': 'Republican',\n",
    "           'Walker, Scott': 'Republican',\n",
    "           'Kasich, John R.': 'Republican',\n",
    "           'Lessig, Lawrence': 'Democrat',\n",
    "           'Gilmore, James S III': 'Republican',\n",
    "           'Pataki, George E.': 'Republican',\n",
    "           'O\\'Malley, Martin Joseph': 'Democrat',\n",
    "           'Johnson, Gary': 'Other',\n",
    "           'Stein, Jill': 'Other',\n",
    "           'McMullin, Evan': 'Other',\n",
    "           'Webb, James Henry Jr.': 'Other',\n",
    "           'Gilmore, James S III': 'Republican',\n",
    "           'Graham, Lindsey O.': 'Republican',\n",
    "           'Paul, Rand': 'Republican'}"
   ]
  },
  {
   "cell_type": "code",
   "execution_count": 313,
   "metadata": {
    "collapsed": true
   },
   "outputs": [],
   "source": [
    "donor_df['Party'] = donor_df.cand_nm.map(party_map)"
   ]
  },
  {
   "cell_type": "code",
   "execution_count": 314,
   "metadata": {
    "collapsed": false
   },
   "outputs": [
    {
     "data": {
      "text/html": [
       "<div>\n",
       "<table border=\"1\" class=\"dataframe\">\n",
       "  <thead>\n",
       "    <tr style=\"text-align: right;\">\n",
       "      <th></th>\n",
       "      <th>cmte_id</th>\n",
       "      <th>cand_id</th>\n",
       "      <th>cand_nm</th>\n",
       "      <th>contbr_nm</th>\n",
       "      <th>contbr_city</th>\n",
       "      <th>contbr_st</th>\n",
       "      <th>contbr_zip</th>\n",
       "      <th>contbr_employer</th>\n",
       "      <th>contbr_occupation</th>\n",
       "      <th>contb_receipt_amt</th>\n",
       "      <th>contb_receipt_dt</th>\n",
       "      <th>receipt_desc</th>\n",
       "      <th>memo_cd</th>\n",
       "      <th>memo_text</th>\n",
       "      <th>form_tp</th>\n",
       "      <th>file_num</th>\n",
       "      <th>Party</th>\n",
       "    </tr>\n",
       "  </thead>\n",
       "  <tbody>\n",
       "    <tr>\n",
       "      <th>C00496034</th>\n",
       "      <td>SB28A.I7077</td>\n",
       "      <td>P20002721</td>\n",
       "      <td>Santorum, Richard J.</td>\n",
       "      <td>MOTHER EMANUEL HOPE FUND</td>\n",
       "      <td>CHARLESTON</td>\n",
       "      <td>SC</td>\n",
       "      <td>29402</td>\n",
       "      <td>NaN</td>\n",
       "      <td>NaN</td>\n",
       "      <td>-1500.0</td>\n",
       "      <td>22-JUN-15</td>\n",
       "      <td>Refund</td>\n",
       "      <td>NaN</td>\n",
       "      <td>NaN</td>\n",
       "      <td>SB28A</td>\n",
       "      <td>1015452</td>\n",
       "      <td>Republican</td>\n",
       "    </tr>\n",
       "    <tr>\n",
       "      <th>C00496034</th>\n",
       "      <td>SA17A.934008</td>\n",
       "      <td>P20002721</td>\n",
       "      <td>Santorum, Richard J.</td>\n",
       "      <td>WYLIE, WAYNE</td>\n",
       "      <td>HURST</td>\n",
       "      <td>TX</td>\n",
       "      <td>760542030</td>\n",
       "      <td>JPMORGAN CHASE</td>\n",
       "      <td>CREDIT OFFICER</td>\n",
       "      <td>100.0</td>\n",
       "      <td>05-APR-16</td>\n",
       "      <td>NaN</td>\n",
       "      <td>NaN</td>\n",
       "      <td>DEBT RETIREMENT</td>\n",
       "      <td>SA17A</td>\n",
       "      <td>1084548</td>\n",
       "      <td>Republican</td>\n",
       "    </tr>\n",
       "    <tr>\n",
       "      <th>C00496034</th>\n",
       "      <td>SA17.934004</td>\n",
       "      <td>P20002721</td>\n",
       "      <td>Santorum, Richard J.</td>\n",
       "      <td>GUNN, GEORGE</td>\n",
       "      <td>DALLAS</td>\n",
       "      <td>TX</td>\n",
       "      <td>752051646</td>\n",
       "      <td>HSI</td>\n",
       "      <td>GEOLOGIST</td>\n",
       "      <td>250.0</td>\n",
       "      <td>22-APR-15</td>\n",
       "      <td>NaN</td>\n",
       "      <td>NaN</td>\n",
       "      <td>PRIMARY 2012 DEBT RETIREMENT</td>\n",
       "      <td>SA17A</td>\n",
       "      <td>1015452</td>\n",
       "      <td>Republican</td>\n",
       "    </tr>\n",
       "    <tr>\n",
       "      <th>C00500587</th>\n",
       "      <td>SA43959</td>\n",
       "      <td>P20003281</td>\n",
       "      <td>Perry, James R. (Rick)</td>\n",
       "      <td>RUSSELL, BILLY MR.</td>\n",
       "      <td>PELHAM</td>\n",
       "      <td>AL</td>\n",
       "      <td>35124</td>\n",
       "      <td>TRIPPLE R PIPELINE</td>\n",
       "      <td>CORROSION INSPECTOR</td>\n",
       "      <td>500.0</td>\n",
       "      <td>08-JUN-15</td>\n",
       "      <td>NaN</td>\n",
       "      <td>NaN</td>\n",
       "      <td>NaN</td>\n",
       "      <td>SA17A</td>\n",
       "      <td>1014957</td>\n",
       "      <td>Republican</td>\n",
       "    </tr>\n",
       "    <tr>\n",
       "      <th>C00500587</th>\n",
       "      <td>SA47417</td>\n",
       "      <td>P20003281</td>\n",
       "      <td>Perry, James R. (Rick)</td>\n",
       "      <td>HASTON, FRED</td>\n",
       "      <td>TRUSSVILLE</td>\n",
       "      <td>AL</td>\n",
       "      <td>35173</td>\n",
       "      <td>CANE RIVER RESOURCES INC</td>\n",
       "      <td>PETROLEUM ENGINEER</td>\n",
       "      <td>100.0</td>\n",
       "      <td>17-AUG-15</td>\n",
       "      <td>NaN</td>\n",
       "      <td>NaN</td>\n",
       "      <td>NaN</td>\n",
       "      <td>SA17A</td>\n",
       "      <td>1028934</td>\n",
       "      <td>Republican</td>\n",
       "    </tr>\n",
       "  </tbody>\n",
       "</table>\n",
       "</div>"
      ],
      "text/plain": [
       "                cmte_id    cand_id                 cand_nm  \\\n",
       "C00496034   SB28A.I7077  P20002721    Santorum, Richard J.   \n",
       "C00496034  SA17A.934008  P20002721    Santorum, Richard J.   \n",
       "C00496034   SA17.934004  P20002721    Santorum, Richard J.   \n",
       "C00500587       SA43959  P20003281  Perry, James R. (Rick)   \n",
       "C00500587       SA47417  P20003281  Perry, James R. (Rick)   \n",
       "\n",
       "                          contbr_nm contbr_city contbr_st contbr_zip  \\\n",
       "C00496034  MOTHER EMANUEL HOPE FUND  CHARLESTON        SC      29402   \n",
       "C00496034              WYLIE, WAYNE       HURST        TX  760542030   \n",
       "C00496034              GUNN, GEORGE      DALLAS        TX  752051646   \n",
       "C00500587        RUSSELL, BILLY MR.      PELHAM        AL      35124   \n",
       "C00500587              HASTON, FRED  TRUSSVILLE        AL      35173   \n",
       "\n",
       "                    contbr_employer    contbr_occupation  contb_receipt_amt  \\\n",
       "C00496034                       NaN                  NaN            -1500.0   \n",
       "C00496034            JPMORGAN CHASE       CREDIT OFFICER              100.0   \n",
       "C00496034                       HSI            GEOLOGIST              250.0   \n",
       "C00500587        TRIPPLE R PIPELINE  CORROSION INSPECTOR              500.0   \n",
       "C00500587  CANE RIVER RESOURCES INC   PETROLEUM ENGINEER              100.0   \n",
       "\n",
       "          contb_receipt_dt receipt_desc memo_cd                     memo_text  \\\n",
       "C00496034        22-JUN-15       Refund     NaN                           NaN   \n",
       "C00496034        05-APR-16          NaN     NaN               DEBT RETIREMENT   \n",
       "C00496034        22-APR-15          NaN     NaN  PRIMARY 2012 DEBT RETIREMENT   \n",
       "C00500587        08-JUN-15          NaN     NaN                           NaN   \n",
       "C00500587        17-AUG-15          NaN     NaN                           NaN   \n",
       "\n",
       "          form_tp  file_num       Party  \n",
       "C00496034   SB28A   1015452  Republican  \n",
       "C00496034   SA17A   1084548  Republican  \n",
       "C00496034   SA17A   1015452  Republican  \n",
       "C00500587   SA17A   1014957  Republican  \n",
       "C00500587   SA17A   1028934  Republican  "
      ]
     },
     "execution_count": 314,
     "metadata": {},
     "output_type": "execute_result"
    }
   ],
   "source": [
    "donor_df.head()"
   ]
  },
  {
   "cell_type": "code",
   "execution_count": 315,
   "metadata": {
    "collapsed": false
   },
   "outputs": [
    {
     "data": {
      "text/html": [
       "<div>\n",
       "<table border=\"1\" class=\"dataframe\">\n",
       "  <thead>\n",
       "    <tr style=\"text-align: right;\">\n",
       "      <th></th>\n",
       "      <th>cmte_id</th>\n",
       "      <th>cand_id</th>\n",
       "      <th>cand_nm</th>\n",
       "      <th>contbr_nm</th>\n",
       "      <th>contbr_city</th>\n",
       "      <th>contbr_st</th>\n",
       "      <th>contbr_zip</th>\n",
       "      <th>contbr_employer</th>\n",
       "      <th>contbr_occupation</th>\n",
       "      <th>contb_receipt_amt</th>\n",
       "      <th>contb_receipt_dt</th>\n",
       "      <th>receipt_desc</th>\n",
       "      <th>memo_cd</th>\n",
       "      <th>memo_text</th>\n",
       "      <th>form_tp</th>\n",
       "      <th>file_num</th>\n",
       "      <th>Party</th>\n",
       "    </tr>\n",
       "  </thead>\n",
       "  <tbody>\n",
       "    <tr>\n",
       "      <th>C00496034</th>\n",
       "      <td>SA17A.934008</td>\n",
       "      <td>P20002721</td>\n",
       "      <td>Santorum, Richard J.</td>\n",
       "      <td>WYLIE, WAYNE</td>\n",
       "      <td>HURST</td>\n",
       "      <td>TX</td>\n",
       "      <td>760542030</td>\n",
       "      <td>JPMORGAN CHASE</td>\n",
       "      <td>CREDIT OFFICER</td>\n",
       "      <td>100.0</td>\n",
       "      <td>05-APR-16</td>\n",
       "      <td>NaN</td>\n",
       "      <td>NaN</td>\n",
       "      <td>DEBT RETIREMENT</td>\n",
       "      <td>SA17A</td>\n",
       "      <td>1084548</td>\n",
       "      <td>Republican</td>\n",
       "    </tr>\n",
       "    <tr>\n",
       "      <th>C00496034</th>\n",
       "      <td>SA17.934004</td>\n",
       "      <td>P20002721</td>\n",
       "      <td>Santorum, Richard J.</td>\n",
       "      <td>GUNN, GEORGE</td>\n",
       "      <td>DALLAS</td>\n",
       "      <td>TX</td>\n",
       "      <td>752051646</td>\n",
       "      <td>HSI</td>\n",
       "      <td>GEOLOGIST</td>\n",
       "      <td>250.0</td>\n",
       "      <td>22-APR-15</td>\n",
       "      <td>NaN</td>\n",
       "      <td>NaN</td>\n",
       "      <td>PRIMARY 2012 DEBT RETIREMENT</td>\n",
       "      <td>SA17A</td>\n",
       "      <td>1015452</td>\n",
       "      <td>Republican</td>\n",
       "    </tr>\n",
       "    <tr>\n",
       "      <th>C00500587</th>\n",
       "      <td>SA43959</td>\n",
       "      <td>P20003281</td>\n",
       "      <td>Perry, James R. (Rick)</td>\n",
       "      <td>RUSSELL, BILLY MR.</td>\n",
       "      <td>PELHAM</td>\n",
       "      <td>AL</td>\n",
       "      <td>35124</td>\n",
       "      <td>TRIPPLE R PIPELINE</td>\n",
       "      <td>CORROSION INSPECTOR</td>\n",
       "      <td>500.0</td>\n",
       "      <td>08-JUN-15</td>\n",
       "      <td>NaN</td>\n",
       "      <td>NaN</td>\n",
       "      <td>NaN</td>\n",
       "      <td>SA17A</td>\n",
       "      <td>1014957</td>\n",
       "      <td>Republican</td>\n",
       "    </tr>\n",
       "    <tr>\n",
       "      <th>C00500587</th>\n",
       "      <td>SA47417</td>\n",
       "      <td>P20003281</td>\n",
       "      <td>Perry, James R. (Rick)</td>\n",
       "      <td>HASTON, FRED</td>\n",
       "      <td>TRUSSVILLE</td>\n",
       "      <td>AL</td>\n",
       "      <td>35173</td>\n",
       "      <td>CANE RIVER RESOURCES INC</td>\n",
       "      <td>PETROLEUM ENGINEER</td>\n",
       "      <td>100.0</td>\n",
       "      <td>17-AUG-15</td>\n",
       "      <td>NaN</td>\n",
       "      <td>NaN</td>\n",
       "      <td>NaN</td>\n",
       "      <td>SA17A</td>\n",
       "      <td>1028934</td>\n",
       "      <td>Republican</td>\n",
       "    </tr>\n",
       "    <tr>\n",
       "      <th>C00500587</th>\n",
       "      <td>SA47914</td>\n",
       "      <td>P20003281</td>\n",
       "      <td>Perry, James R. (Rick)</td>\n",
       "      <td>MCGRATH, JOE</td>\n",
       "      <td>JONESBORO</td>\n",
       "      <td>AR</td>\n",
       "      <td>72401</td>\n",
       "      <td>NEA BAPTIST</td>\n",
       "      <td>PHYSCIAN</td>\n",
       "      <td>25.0</td>\n",
       "      <td>11-SEP-15</td>\n",
       "      <td>NaN</td>\n",
       "      <td>NaN</td>\n",
       "      <td>NaN</td>\n",
       "      <td>SA17A</td>\n",
       "      <td>1028934</td>\n",
       "      <td>Republican</td>\n",
       "    </tr>\n",
       "  </tbody>\n",
       "</table>\n",
       "</div>"
      ],
      "text/plain": [
       "                cmte_id    cand_id                 cand_nm  \\\n",
       "C00496034  SA17A.934008  P20002721    Santorum, Richard J.   \n",
       "C00496034   SA17.934004  P20002721    Santorum, Richard J.   \n",
       "C00500587       SA43959  P20003281  Perry, James R. (Rick)   \n",
       "C00500587       SA47417  P20003281  Perry, James R. (Rick)   \n",
       "C00500587       SA47914  P20003281  Perry, James R. (Rick)   \n",
       "\n",
       "                    contbr_nm contbr_city contbr_st contbr_zip  \\\n",
       "C00496034        WYLIE, WAYNE       HURST        TX  760542030   \n",
       "C00496034        GUNN, GEORGE      DALLAS        TX  752051646   \n",
       "C00500587  RUSSELL, BILLY MR.      PELHAM        AL      35124   \n",
       "C00500587        HASTON, FRED  TRUSSVILLE        AL      35173   \n",
       "C00500587        MCGRATH, JOE   JONESBORO        AR      72401   \n",
       "\n",
       "                    contbr_employer    contbr_occupation  contb_receipt_amt  \\\n",
       "C00496034            JPMORGAN CHASE       CREDIT OFFICER              100.0   \n",
       "C00496034                       HSI            GEOLOGIST              250.0   \n",
       "C00500587        TRIPPLE R PIPELINE  CORROSION INSPECTOR              500.0   \n",
       "C00500587  CANE RIVER RESOURCES INC   PETROLEUM ENGINEER              100.0   \n",
       "C00500587               NEA BAPTIST             PHYSCIAN               25.0   \n",
       "\n",
       "          contb_receipt_dt receipt_desc memo_cd                     memo_text  \\\n",
       "C00496034        05-APR-16          NaN     NaN               DEBT RETIREMENT   \n",
       "C00496034        22-APR-15          NaN     NaN  PRIMARY 2012 DEBT RETIREMENT   \n",
       "C00500587        08-JUN-15          NaN     NaN                           NaN   \n",
       "C00500587        17-AUG-15          NaN     NaN                           NaN   \n",
       "C00500587        11-SEP-15          NaN     NaN                           NaN   \n",
       "\n",
       "          form_tp  file_num       Party  \n",
       "C00496034   SA17A   1084548  Republican  \n",
       "C00496034   SA17A   1015452  Republican  \n",
       "C00500587   SA17A   1014957  Republican  \n",
       "C00500587   SA17A   1028934  Republican  \n",
       "C00500587   SA17A   1028934  Republican  "
      ]
     },
     "execution_count": 315,
     "metadata": {},
     "output_type": "execute_result"
    }
   ],
   "source": [
    "donor_df = donor_df[donor_df.contb_receipt_amt > 0]\n",
    "donor_df.head()"
   ]
  },
  {
   "cell_type": "code",
   "execution_count": 372,
   "metadata": {
    "collapsed": false
   },
   "outputs": [],
   "source": [
    "bins = np.array([0, 1, 10, 100, 1000, 10000, 100000, 1000000, 10000000])\n",
    "labels = pd.cut(donor_df.contb_receipt_amt, bins)\n",
    "grouped = donor_df.groupby(['cand_nm', labels])\n",
    "#grouped.size().unstack().index\n",
    "grouped2 = grouped.size().unstack()\n"
   ]
  },
  {
   "cell_type": "code",
   "execution_count": 371,
   "metadata": {
    "collapsed": false
   },
   "outputs": [
    {
     "data": {
      "text/plain": [
       "contb_receipt_amt\n",
       "(0, 1]                   45347.0\n",
       "(1, 10]                 768814.0\n",
       "(10, 100]              2146146.0\n",
       "(100, 1000]             434494.0\n",
       "(1000, 10000]            76279.0\n",
       "(10000, 100000]              1.0\n",
       "(100000, 1000000]            1.0\n",
       "(1000000, 10000000]         21.0\n",
       "Name: Clinton, Hillary Rodham, dtype: float64"
      ]
     },
     "execution_count": 371,
     "metadata": {},
     "output_type": "execute_result"
    }
   ],
   "source": [
    "#donations received by the top 3 candidates divided into bins of dollar amount ranges\n",
    "grouped2.iloc[3]"
   ]
  },
  {
   "cell_type": "code",
   "execution_count": 369,
   "metadata": {
    "collapsed": false
   },
   "outputs": [
    {
     "data": {
      "text/plain": [
       "contb_receipt_amt\n",
       "(0, 1]                    9847.0\n",
       "(1, 10]                 472768.0\n",
       "(10, 100]              1465056.0\n",
       "(100, 1000]              97753.0\n",
       "(1000, 10000]             2171.0\n",
       "(10000, 100000]              NaN\n",
       "(100000, 1000000]            NaN\n",
       "(1000000, 10000000]          NaN\n",
       "Name: Sanders, Bernard, dtype: float64"
      ]
     },
     "execution_count": 369,
     "metadata": {},
     "output_type": "execute_result"
    }
   ],
   "source": [
    "grouped2.iloc[18]"
   ]
  },
  {
   "cell_type": "code",
   "execution_count": 370,
   "metadata": {
    "collapsed": false
   },
   "outputs": [
    {
     "data": {
      "text/plain": [
       "contb_receipt_amt\n",
       "(0, 1]                   1067.0\n",
       "(1, 10]                 49358.0\n",
       "(10, 100]              429461.0\n",
       "(100, 1000]            198511.0\n",
       "(1000, 10000]           12876.0\n",
       "(10000, 100000]             3.0\n",
       "(100000, 1000000]           NaN\n",
       "(1000000, 10000000]         NaN\n",
       "Name: Trump, Donald J., dtype: float64"
      ]
     },
     "execution_count": 370,
     "metadata": {},
     "output_type": "execute_result"
    }
   ],
   "source": [
    "grouped2.iloc[21]"
   ]
  },
  {
   "cell_type": "code",
   "execution_count": 316,
   "metadata": {
    "collapsed": false
   },
   "outputs": [
    {
     "data": {
      "text/html": [
       "<div>\n",
       "<table border=\"1\" class=\"dataframe\">\n",
       "  <thead>\n",
       "    <tr style=\"text-align: right;\">\n",
       "      <th></th>\n",
       "      <th>contb_receipt_amt</th>\n",
       "    </tr>\n",
       "    <tr>\n",
       "      <th>cand_nm</th>\n",
       "      <th></th>\n",
       "    </tr>\n",
       "  </thead>\n",
       "  <tbody>\n",
       "    <tr>\n",
       "      <th>Clinton, Hillary Rodham</th>\n",
       "      <td>3471104</td>\n",
       "    </tr>\n",
       "    <tr>\n",
       "      <th>Sanders, Bernard</th>\n",
       "      <td>2047595</td>\n",
       "    </tr>\n",
       "    <tr>\n",
       "      <th>Trump, Donald J.</th>\n",
       "      <td>691276</td>\n",
       "    </tr>\n",
       "    <tr>\n",
       "      <th>Cruz, Rafael Edward 'Ted'</th>\n",
       "      <td>541088</td>\n",
       "    </tr>\n",
       "    <tr>\n",
       "      <th>Carson, Benjamin S.</th>\n",
       "      <td>244904</td>\n",
       "    </tr>\n",
       "    <tr>\n",
       "      <th>Paul, Rand</th>\n",
       "      <td>32196</td>\n",
       "    </tr>\n",
       "    <tr>\n",
       "      <th>Bush, Jeb</th>\n",
       "      <td>28038</td>\n",
       "    </tr>\n",
       "    <tr>\n",
       "      <th>Fiorina, Carly</th>\n",
       "      <td>27536</td>\n",
       "    </tr>\n",
       "    <tr>\n",
       "      <th>Kasich, John R.</th>\n",
       "      <td>25212</td>\n",
       "    </tr>\n",
       "    <tr>\n",
       "      <th>Johnson, Gary</th>\n",
       "      <td>13400</td>\n",
       "    </tr>\n",
       "    <tr>\n",
       "      <th>Stein, Jill</th>\n",
       "      <td>7938</td>\n",
       "    </tr>\n",
       "    <tr>\n",
       "      <th>Walker, Scott</th>\n",
       "      <td>6608</td>\n",
       "    </tr>\n",
       "    <tr>\n",
       "      <th>Huckabee, Mike</th>\n",
       "      <td>6360</td>\n",
       "    </tr>\n",
       "    <tr>\n",
       "      <th>Christie, Christopher J.</th>\n",
       "      <td>5837</td>\n",
       "    </tr>\n",
       "    <tr>\n",
       "      <th>O'Malley, Martin Joseph</th>\n",
       "      <td>5198</td>\n",
       "    </tr>\n",
       "    <tr>\n",
       "      <th>Graham, Lindsey O.</th>\n",
       "      <td>3926</td>\n",
       "    </tr>\n",
       "    <tr>\n",
       "      <th>McMullin, Evan</th>\n",
       "      <td>2561</td>\n",
       "    </tr>\n",
       "    <tr>\n",
       "      <th>Santorum, Richard J.</th>\n",
       "      <td>1667</td>\n",
       "    </tr>\n",
       "    <tr>\n",
       "      <th>Lessig, Lawrence</th>\n",
       "      <td>1337</td>\n",
       "    </tr>\n",
       "    <tr>\n",
       "      <th>Perry, James R. (Rick)</th>\n",
       "      <td>875</td>\n",
       "    </tr>\n",
       "    <tr>\n",
       "      <th>Webb, James Henry Jr.</th>\n",
       "      <td>800</td>\n",
       "    </tr>\n",
       "    <tr>\n",
       "      <th>Jindal, Bobby</th>\n",
       "      <td>761</td>\n",
       "    </tr>\n",
       "    <tr>\n",
       "      <th>Pataki, George E.</th>\n",
       "      <td>343</td>\n",
       "    </tr>\n",
       "    <tr>\n",
       "      <th>Gilmore, James S III</th>\n",
       "      <td>84</td>\n",
       "    </tr>\n",
       "  </tbody>\n",
       "</table>\n",
       "</div>"
      ],
      "text/plain": [
       "                           contb_receipt_amt\n",
       "cand_nm                                     \n",
       "Clinton, Hillary Rodham              3471104\n",
       "Sanders, Bernard                     2047595\n",
       "Trump, Donald J.                      691276\n",
       "Cruz, Rafael Edward 'Ted'             541088\n",
       "Carson, Benjamin S.                   244904\n",
       "Paul, Rand                             32196\n",
       "Bush, Jeb                              28038\n",
       "Fiorina, Carly                         27536\n",
       "Kasich, John R.                        25212\n",
       "Johnson, Gary                          13400\n",
       "Stein, Jill                             7938\n",
       "Walker, Scott                           6608\n",
       "Huckabee, Mike                          6360\n",
       "Christie, Christopher J.                5837\n",
       "O'Malley, Martin Joseph                 5198\n",
       "Graham, Lindsey O.                      3926\n",
       "McMullin, Evan                          2561\n",
       "Santorum, Richard J.                    1667\n",
       "Lessig, Lawrence                        1337\n",
       "Perry, James R. (Rick)                   875\n",
       "Webb, James Henry Jr.                    800\n",
       "Jindal, Bobby                            761\n",
       "Pataki, George E.                        343\n",
       "Gilmore, James S III                      84"
      ]
     },
     "execution_count": 316,
     "metadata": {},
     "output_type": "execute_result"
    }
   ],
   "source": [
    "#2) Clinton, Sanders, Trump and Cruz received the largest amounts. All other candidates received minor amounts.\n",
    "donations_df = pd.DataFrame(donor_df.groupby('cand_nm')['contb_receipt_amt'].count())\n",
    "donations_df.sort_values(by='contb_receipt_amt',ascending=False)\n"
   ]
  },
  {
   "cell_type": "code",
   "execution_count": 317,
   "metadata": {
    "collapsed": false
   },
   "outputs": [],
   "source": [
    "cand_amount = donor_df.groupby('cand_nm')['contb_receipt_amt'].sum()"
   ]
  },
  {
   "cell_type": "code",
   "execution_count": 318,
   "metadata": {
    "collapsed": false
   },
   "outputs": [
    {
     "data": {
      "text/plain": [
       "<matplotlib.axes._subplots.AxesSubplot at 0x15937fac8>"
      ]
     },
     "execution_count": 318,
     "metadata": {},
     "output_type": "execute_result"
    },
    {
     "data": {
      "image/png": "[encoded data removed]",
      "text/plain": [
       "<matplotlib.figure.Figure at 0x10438e208>"
      ]
     },
     "metadata": {},
     "output_type": "display_data"
    }
   ],
   "source": [
    "cand_amount.plot(kind='bar')"
   ]
  },
  {
   "cell_type": "code",
   "execution_count": 319,
   "metadata": {
    "collapsed": false
   },
   "outputs": [
    {
     "data": {
      "text/plain": [
       "Party\n",
       "Democrat      6.242028e+08\n",
       "Other         5.585495e+06\n",
       "Republican    3.048132e+08\n",
       "Name: contb_receipt_amt, dtype: float64"
      ]
     },
     "execution_count": 319,
     "metadata": {},
     "output_type": "execute_result"
    }
   ],
   "source": [
    "#3) Democrats received $624,202,800 and Republicans received $304,813,200\n",
    "donor_df.groupby('Party')['contb_receipt_amt'].sum()"
   ]
  },
  {
   "cell_type": "code",
   "execution_count": 320,
   "metadata": {
    "collapsed": false
   },
   "outputs": [
    {
     "data": {
      "text/plain": [
       "<matplotlib.axes._subplots.AxesSubplot at 0x12a2a02e8>"
      ]
     },
     "execution_count": 320,
     "metadata": {},
     "output_type": "execute_result"
    },
    {
     "data": {
      "image/png": "[encoded data removed]",
      "text/plain": [
       "<matplotlib.figure.Figure at 0x12a2aaeb8>"
      ]
     },
     "metadata": {},
     "output_type": "display_data"
    }
   ],
   "source": [
    "donor_df.groupby('Party')['contb_receipt_amt'].sum().plot(kind='bar')"
   ]
  },
  {
   "cell_type": "code",
   "execution_count": 321,
   "metadata": {
    "collapsed": true
   },
   "outputs": [],
   "source": [
    "occupation_df = donor_df.pivot_table('contb_receipt_amt',index='contbr_occupation',columns='Party',aggfunc='sum')"
   ]
  },
  {
   "cell_type": "code",
   "execution_count": 322,
   "metadata": {
    "collapsed": false
   },
   "outputs": [
    {
     "data": {
      "text/html": [
       "<div>\n",
       "<table border=\"1\" class=\"dataframe\">\n",
       "  <thead>\n",
       "    <tr style=\"text-align: right;\">\n",
       "      <th>Party</th>\n",
       "      <th>Democrat</th>\n",
       "      <th>Other</th>\n",
       "      <th>Republican</th>\n",
       "    </tr>\n",
       "    <tr>\n",
       "      <th>contbr_occupation</th>\n",
       "      <th></th>\n",
       "      <th></th>\n",
       "      <th></th>\n",
       "    </tr>\n",
       "  </thead>\n",
       "  <tbody>\n",
       "    <tr>\n",
       "      <th>ADMINISTRATIVE ASSISTANT</th>\n",
       "      <td>150.00</td>\n",
       "      <td>NaN</td>\n",
       "      <td>NaN</td>\n",
       "    </tr>\n",
       "    <tr>\n",
       "      <th>ARTIST</th>\n",
       "      <td>100.00</td>\n",
       "      <td>NaN</td>\n",
       "      <td>NaN</td>\n",
       "    </tr>\n",
       "    <tr>\n",
       "      <th>ATTORNEY</th>\n",
       "      <td>2100.50</td>\n",
       "      <td>NaN</td>\n",
       "      <td>NaN</td>\n",
       "    </tr>\n",
       "    <tr>\n",
       "      <th>CAREER ADVISOR</th>\n",
       "      <td>50.00</td>\n",
       "      <td>NaN</td>\n",
       "      <td>NaN</td>\n",
       "    </tr>\n",
       "    <tr>\n",
       "      <th>CERTIFIED REGISTERED NURSE ANESTHETIS</th>\n",
       "      <td>2927.72</td>\n",
       "      <td>NaN</td>\n",
       "      <td>NaN</td>\n",
       "    </tr>\n",
       "  </tbody>\n",
       "</table>\n",
       "</div>"
      ],
      "text/plain": [
       "Party                                   Democrat  Other  Republican\n",
       "contbr_occupation                                                  \n",
       " ADMINISTRATIVE ASSISTANT                 150.00    NaN         NaN\n",
       " ARTIST                                   100.00    NaN         NaN\n",
       " ATTORNEY                                2100.50    NaN         NaN\n",
       " CAREER ADVISOR                            50.00    NaN         NaN\n",
       " CERTIFIED REGISTERED NURSE ANESTHETIS   2927.72    NaN         NaN"
      ]
     },
     "execution_count": 322,
     "metadata": {},
     "output_type": "execute_result"
    }
   ],
   "source": [
    "occupation_df.head()"
   ]
  },
  {
   "cell_type": "code",
   "execution_count": 323,
   "metadata": {
    "collapsed": false
   },
   "outputs": [
    {
     "data": {
      "text/plain": [
       "(122736, 3)"
      ]
     },
     "execution_count": 323,
     "metadata": {},
     "output_type": "execute_result"
    }
   ],
   "source": [
    "#there are too many occupations to list unless we take only the occupations that donated between $5,000,000 and $10,000,000\n",
    "occupation_df.shape"
   ]
  },
  {
   "cell_type": "code",
   "execution_count": 324,
   "metadata": {
    "collapsed": false
   },
   "outputs": [],
   "source": [
    "#occupation_df = occupation_df[occupation_df.sum(1) > 10000000]\n",
    "occupation_df = occupation_df[(occupation_df.sum(1) > 5000000) & (occupation_df.sum(1) < 10000000) ]"
   ]
  },
  {
   "cell_type": "code",
   "execution_count": 325,
   "metadata": {
    "collapsed": false
   },
   "outputs": [
    {
     "data": {
      "text/plain": [
       "(9, 3)"
      ]
     },
     "execution_count": 325,
     "metadata": {},
     "output_type": "execute_result"
    }
   ],
   "source": [
    "occupation_df.shape"
   ]
  },
  {
   "cell_type": "code",
   "execution_count": 326,
   "metadata": {
    "collapsed": false
   },
   "outputs": [
    {
     "data": {
      "text/plain": [
       "<matplotlib.text.Text at 0x15a7c9f98>"
      ]
     },
     "execution_count": 326,
     "metadata": {},
     "output_type": "execute_result"
    },
    {
     "data": {
      "image/png": "[encoded data removed]",
      "text/plain": [
       "<matplotlib.figure.Figure at 0x96d33b00>"
      ]
     },
     "metadata": {},
     "output_type": "display_data"
    }
   ],
   "source": [
    "#4) Occupations of the donors separated by party.  Total donations between $5,000,0000 and $10,000,0000\n",
    "occupation_df.plot(kind='barh')\n",
    "plt.xlabel('Dollars in Millions')\n",
    "plt.ylabel('Occupation')"
   ]
  },
  {
   "cell_type": "code",
   "execution_count": 327,
   "metadata": {
    "collapsed": true
   },
   "outputs": [],
   "source": [
    "occupation_df = donor_df.pivot_table('contb_receipt_amt',index='contbr_occupation',columns='Party',aggfunc='sum')"
   ]
  },
  {
   "cell_type": "code",
   "execution_count": 328,
   "metadata": {
    "collapsed": true
   },
   "outputs": [],
   "source": [
    "#occupation_df = occupation_df[occupation_df.sum(1) > 10000000]\n",
    "occupation_df = occupation_df[occupation_df.sum(1) > 10000000]\n",
    "occupation_df.drop(['INFORMATION REQUESTED PER BEST EFFORTS','INFORMATION REQUESTED'],axis=0,inplace=True)"
   ]
  },
  {
   "cell_type": "code",
   "execution_count": 329,
   "metadata": {
    "collapsed": false
   },
   "outputs": [
    {
     "data": {
      "text/plain": [
       "(11, 3)"
      ]
     },
     "execution_count": 329,
     "metadata": {},
     "output_type": "execute_result"
    }
   ],
   "source": [
    "occupation_df.shape"
   ]
  },
  {
   "cell_type": "code",
   "execution_count": 330,
   "metadata": {
    "collapsed": false
   },
   "outputs": [
    {
     "data": {
      "text/plain": [
       "<matplotlib.text.Text at 0x5fe04588>"
      ]
     },
     "execution_count": 330,
     "metadata": {},
     "output_type": "execute_result"
    },
    {
     "data": {
      "image/png": "[encoded data removed]",
      "text/plain": [
       "<matplotlib.figure.Figure at 0xcb566518>"
      ]
     },
     "metadata": {},
     "output_type": "display_data"
    }
   ],
   "source": [
    "#4) Occupations of the donors separated by party\n",
    "\n",
    "occupation_df.plot(kind='barh')\n",
    "plt.xlabel('Dollars in Tens of Millions')\n",
    "plt.ylabel('Occupation')"
   ]
  },
  {
   "cell_type": "code",
   "execution_count": null,
   "metadata": {
    "collapsed": false
   },
   "outputs": [],
   "source": []
  }
 ],
 "metadata": {
  "anaconda-cloud": {},
  "kernelspec": {
   "display_name": "Python [conda root]",
   "language": "python",
   "name": "conda-root-py"
  },
  "language_info": {
   "codemirror_mode": {
    "name": "ipython",
    "version": 2
   },
   "file_extension": ".py",
   "mimetype": "text/x-python",
   "name": "python",
   "nbconvert_exporter": "python",
   "pygments_lexer": "ipython2",
   "version": "2.7.12"
  }
 },
 "nbformat": 4,
 "nbformat_minor": 1
}
